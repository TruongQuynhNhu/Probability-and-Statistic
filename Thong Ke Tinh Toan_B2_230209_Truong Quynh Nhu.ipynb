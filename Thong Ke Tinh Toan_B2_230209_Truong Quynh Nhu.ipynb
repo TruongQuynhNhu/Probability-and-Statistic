{
 "cells": [
  {
   "cell_type": "code",
   "execution_count": 1,
   "id": "03ac0e4a",
   "metadata": {},
   "outputs": [],
   "source": [
    "import numpy as np\n",
    "from scipy.stats import norm\n",
    "import matplotlib.pyplot as plt"
   ]
  },
  {
   "cell_type": "code",
   "execution_count": 2,
   "id": "bba858fe",
   "metadata": {},
   "outputs": [],
   "source": [
    "# tạo mảng phân phối chuẩn (mean, var)\n",
    "mean = 0\n",
    "var = 1\n",
    "size = 1000\n",
    "Xtrain = np.random.randn(size).tolist()"
   ]
  },
  {
   "cell_type": "code",
   "execution_count": 3,
   "id": "a6a6f025",
   "metadata": {},
   "outputs": [],
   "source": [
    "def CharacterFunction(x):\n",
    "    if x < 1 and x > -1:\n",
    "        return 1\n",
    "    else:\n",
    "        return 0    "
   ]
  },
  {
   "cell_type": "code",
   "execution_count": 4,
   "id": "ec8d154b",
   "metadata": {},
   "outputs": [
    {
     "data": {
      "text/plain": [
       "1"
      ]
     },
     "execution_count": 4,
     "metadata": {},
     "output_type": "execute_result"
    }
   ],
   "source": [
    "CharacterFunction(0.5)"
   ]
  },
  {
   "cell_type": "code",
   "execution_count": 5,
   "id": "20e3b17e",
   "metadata": {},
   "outputs": [],
   "source": [
    "def recK(x):\n",
    "    return 0.5*CharacterFunction(x)\n",
    "def triK(x):\n",
    "    return (1 - abs(x))*CharacterFunction(x)\n",
    "def paraK(x):\n",
    "    return 0.75*(1 - x**2)*CharacterFunction(x)\n",
    "def quarK(x):\n",
    "    return 15/16*(1 - x**2)**2*CharacterFunction(x)\n",
    "def GaussK(x):\n",
    "    return np.exp(-x**2/2)/np.sqrt(2*np.pi)\n",
    "def silK(x):\n",
    "    return 0.5 * np.exp(-abs(x)/np.sqrt(2)) * np.sin(abs(x)/np.sqrt(2) + np.pi/4)"
   ]
  },
  {
   "cell_type": "code",
   "execution_count": 6,
   "id": "ca126aaf",
   "metadata": {},
   "outputs": [
    {
     "data": {
      "text/plain": [
       "1.0"
      ]
     },
     "execution_count": 6,
     "metadata": {},
     "output_type": "execute_result"
    }
   ],
   "source": [
    "np.exp(0)"
   ]
  },
  {
   "cell_type": "code",
   "execution_count": 7,
   "id": "cc4ebe27",
   "metadata": {},
   "outputs": [],
   "source": [
    "def KernelEstimation(data, typeKernel, h, x):\n",
    "    '''\n",
    "    data: 1D array\n",
    "    typeKernel: 1: rectangular (uniform) Kernel\n",
    "                2: triangle Kernel\n",
    "                3: Epanechnikov (parabolic) Kernel\n",
    "                4: Quartic (biweight) Kernel\n",
    "                5: Gauss Kernel\n",
    "                6: Silverman (Sil) Kernel\n",
    "    h: bandwidth\n",
    "    '''\n",
    "    n = len(data)\n",
    "    K = 0\n",
    "    if typeKernel ==1:\n",
    "        for X in data:\n",
    "            K+= recK((X-x)/h)\n",
    "    if typeKernel ==2:\n",
    "        for X in data:\n",
    "            K+= triK((X-x)/h)\n",
    "    if typeKernel ==3:\n",
    "        for X in data:\n",
    "            K+= paraK((X-x)/h)\n",
    "    if typeKernel ==4:\n",
    "        for X in data:\n",
    "            K+= quarK((X-x)/h)\n",
    "    if typeKernel ==5:\n",
    "        for X in data:\n",
    "            K+= GaussK((X-x)/h)\n",
    "    else:\n",
    "        for X in data:\n",
    "            K+= silK((X-x)/h)\n",
    "    f = K / (n*h)\n",
    "    return f"
   ]
  },
  {
   "cell_type": "code",
   "execution_count": 14,
   "id": "bfa04f9e",
   "metadata": {},
   "outputs": [
    {
     "data": {
      "text/plain": [
       "array([ 9.33263844e-01,  6.29649777e-01, -5.44413966e-01, -8.65866521e-01,\n",
       "       -2.14025645e-01, -1.22329552e+00,  4.31529106e-01,  8.56015912e-02,\n",
       "       -2.38035055e-01,  1.69008933e+00,  4.74652973e-01, -2.84555600e-01,\n",
       "       -4.41883098e-01, -5.89177556e-01,  1.14248228e+00, -1.00152193e-02,\n",
       "       -7.53929939e-01,  5.40222522e-01,  1.98251898e+00, -6.65024850e-02,\n",
       "       -9.63137754e-01, -1.01572897e+00,  9.24105044e-01,  1.76433075e-01,\n",
       "        2.11957633e-01,  1.00216044e+00, -2.06346631e-01,  1.30476008e+00,\n",
       "        1.91006638e+00, -1.35930021e+00,  1.48847231e+00,  2.76452728e-01,\n",
       "        1.17060891e-01,  2.40610926e-01, -2.84304371e-01, -1.06130846e+00,\n",
       "       -1.50215488e+00, -5.87894828e-01,  7.82039890e-01, -2.67866617e-01,\n",
       "        2.28448068e+00,  1.24750777e+00, -3.35425480e-01,  2.36463052e-02,\n",
       "       -2.87592581e-01, -1.06265189e+00,  9.05399069e-01, -8.99511655e-01,\n",
       "       -1.84631663e-01,  2.08081215e+00, -9.86725775e-02,  5.11681999e-01,\n",
       "        3.63192328e-01, -2.72350590e+00,  4.46813774e-02, -6.65948963e-02,\n",
       "       -4.30856688e-02,  1.42955388e-01,  1.45983254e-01, -7.27914102e-01,\n",
       "        4.21672931e-01, -2.45298050e+00,  9.31031414e-01,  1.55845777e+00,\n",
       "        7.51610114e-01, -9.01453945e-01,  1.11224224e+00, -7.79354981e-02,\n",
       "       -1.05760978e+00,  1.07029941e+00, -1.05740117e+00, -8.38747661e-01,\n",
       "       -7.39870331e-01,  5.38945451e-01,  7.70610267e-01, -1.34501461e+00,\n",
       "       -9.60182467e-01,  4.97186819e-01, -9.85537858e-01, -9.49823780e-01,\n",
       "       -2.17306841e+00, -5.45346403e-01, -1.58354899e+00,  6.21916913e-01,\n",
       "        2.79356059e-01,  9.73931825e-01,  1.39961428e+00, -1.51263663e+00,\n",
       "       -9.20523570e-01, -7.55414038e-01, -9.49962935e-01, -7.42516961e-01,\n",
       "        8.85796230e-01, -5.78982355e-01,  6.53587503e-01,  1.77052779e+00,\n",
       "        1.00231843e+00,  9.48221579e-02, -1.27839311e+00, -2.65709537e+00,\n",
       "       -1.38977057e+00,  2.96243849e-01,  3.24123417e-01,  1.69266611e-01,\n",
       "        3.85101478e-01, -3.95558839e-01, -3.77101658e-01,  3.25645357e-01,\n",
       "        3.68055032e-01, -9.96421088e-01, -1.84306692e+00, -9.49177874e-01,\n",
       "        1.64767198e-02, -1.13480465e-01, -3.78140134e-01, -6.90399777e-02,\n",
       "       -2.23432847e-01, -1.15089974e+00, -9.96762227e-01,  6.57649422e-01,\n",
       "        1.50837615e+00,  1.13864505e+00,  1.19239554e+00,  1.01107148e+00,\n",
       "       -3.73309796e-01, -8.55273085e-03, -6.94549156e-01,  6.43369244e-01,\n",
       "        4.19293325e-01,  1.21738298e+00,  1.95438478e+00,  6.48749163e-01,\n",
       "        9.37780420e-01,  4.59265573e-01, -1.35322743e-01, -9.16119553e-01,\n",
       "       -6.26659045e-01,  8.43352653e-01,  8.22739921e-01, -7.16613335e-01,\n",
       "       -1.11036011e-01, -3.84566505e-01, -2.36999151e+00,  3.96474970e-01,\n",
       "       -7.02423342e-02, -2.79765500e-01,  3.85745159e-01, -1.40456763e+00,\n",
       "        2.60670231e-01, -2.53164397e+00, -5.52018956e-02,  2.57327301e-01,\n",
       "        1.12174712e+00,  5.27126216e-01, -3.76554574e-01, -1.09749741e+00,\n",
       "        1.31988742e+00,  7.35683422e-01, -1.23232560e+00,  1.93140350e+00,\n",
       "       -6.10131852e-01,  2.98416503e-02, -4.38376579e-01,  5.27706611e-01,\n",
       "        3.06015560e-01,  1.16410629e-01,  1.52890800e+00,  1.19611885e+00,\n",
       "        1.42592613e-01,  8.25927263e-02,  4.99409190e-02,  1.00645974e+00,\n",
       "        6.86352444e-01,  5.70102530e-01,  3.29636786e-01,  1.37052145e+00,\n",
       "        4.08667939e-01, -5.35459190e-01,  1.16550797e-01, -1.36131227e+00,\n",
       "       -2.74081491e-01, -9.18419104e-01, -5.28795727e-01,  4.37786880e-01,\n",
       "       -3.11844067e-01,  1.85369121e+00,  8.36741639e-02,  7.56906844e-02,\n",
       "        4.07193596e-02, -2.32486586e-01,  5.28027692e-01,  1.33600818e-01,\n",
       "        7.78939672e-02, -3.02817404e-01,  1.73309527e-01,  8.52986862e-01,\n",
       "        1.97251152e+00,  7.92024869e-01,  7.59945077e-01, -1.23379615e+00,\n",
       "       -9.23543871e-01, -4.60071502e-01, -3.78332500e-01,  4.44878978e-01,\n",
       "       -5.96490383e-01, -9.04258104e-01, -1.05687260e+00,  3.71010705e-01,\n",
       "       -1.72608581e-01, -1.89070637e+00, -1.74498955e+00, -2.58024296e-02,\n",
       "       -2.17019479e+00,  7.51856649e-01, -8.47866028e-02, -7.12609449e-01,\n",
       "       -1.43248647e+00, -1.55501641e+00,  8.03527362e-01, -3.80546841e-01,\n",
       "       -1.01629517e+00, -2.59447366e+00,  1.21723737e+00, -2.46420691e-01,\n",
       "        5.42896132e-03,  1.61024749e-01, -1.81492763e+00, -5.07994179e-01,\n",
       "        2.77451033e-01, -2.13817565e-01,  7.41097538e-01, -5.73821059e-01,\n",
       "        1.99887878e+00,  7.53959649e-01, -3.69505578e-01, -2.44304394e-01,\n",
       "       -5.47742692e-01,  2.95238113e-01, -1.65048004e+00,  1.01303161e+00,\n",
       "       -1.48163369e+00,  9.56606174e-01, -4.50685806e-01, -1.08506954e+00,\n",
       "        3.72398584e-01, -2.59695418e+00, -1.72140569e+00, -4.65969631e-01,\n",
       "        1.94879693e-01, -1.28340784e+00,  1.70066704e-04, -7.04794023e-01,\n",
       "        6.32232521e-01, -1.59661671e+00,  2.43362797e-01, -1.45657460e+00,\n",
       "       -1.00465069e+00,  1.49036286e+00,  4.87034341e-01, -4.31822353e-01,\n",
       "        3.88702552e-01, -2.43561166e-01, -1.09759143e+00, -3.39284924e-01,\n",
       "        4.27328246e-02, -3.98791813e-01,  9.15914119e-01, -2.18705728e-01,\n",
       "       -8.22424748e-01,  1.62324983e-01, -5.92054824e-01,  1.22418966e+00,\n",
       "        1.59082372e+00, -7.29842758e-01,  1.75315892e-02,  5.28324057e-01,\n",
       "       -2.28163424e+00,  2.50555028e+00, -1.14725723e+00,  3.98110372e-01,\n",
       "       -5.48487362e-01,  1.43215368e+00,  3.34087657e-01, -4.18643925e-01,\n",
       "       -6.28740513e-01,  3.92032983e-01,  3.25231880e+00,  1.97443450e+00,\n",
       "       -5.21998761e-01, -5.93736575e-01, -1.25289030e+00,  1.19444954e+00,\n",
       "        7.56961245e-01,  2.02665553e+00,  1.45063957e+00, -1.15066992e+00,\n",
       "        8.75091325e-01,  5.98682865e-01,  4.08092024e-01,  2.96427566e+00,\n",
       "       -1.03517202e-01,  1.52519486e-01, -8.56727850e-01,  6.30026828e-01,\n",
       "       -8.78524920e-01, -4.81857431e-01, -4.22106024e-01,  4.10960133e-01,\n",
       "       -1.10725334e+00,  4.22587603e-01, -9.12686290e-01, -6.73285667e-01,\n",
       "        1.64747866e-01, -3.10223626e-01, -1.99995246e-01, -1.29990952e-01,\n",
       "        2.06384343e+00,  2.24864877e-01,  9.68647641e-01,  1.95281675e+00,\n",
       "       -7.14169918e-01, -6.03698416e-01, -4.18191441e-01,  1.17546107e+00,\n",
       "       -3.64822501e-01,  4.69395171e-01, -3.19991183e-01, -9.36360832e-01,\n",
       "       -1.65679294e-01, -1.39704437e+00, -8.67253759e-01,  5.42326569e-01,\n",
       "        1.63539275e+00,  6.68023975e-01, -2.00937054e+00, -1.54304712e+00,\n",
       "       -5.84104852e-01,  6.82996294e-01,  2.11680459e-01, -8.30663389e-01,\n",
       "       -9.90231593e-01, -2.82215788e-01,  2.70557713e-01,  2.37968997e-02,\n",
       "       -9.78216746e-01,  1.81096465e+00, -7.59035766e-01,  4.24918966e-01,\n",
       "       -7.22027693e-01,  1.61086525e+00, -1.90311078e-02, -1.47237509e+00,\n",
       "       -3.42449976e-01,  5.97091070e-01, -1.31921060e+00,  6.81974733e-01,\n",
       "       -8.21094459e-01,  2.71311054e-01, -6.74218827e-01,  4.85496129e-01,\n",
       "        2.29060450e+00, -1.44623744e+00,  1.24655432e-01, -1.87866874e+00,\n",
       "       -1.97750123e-01,  4.59637930e-01,  6.45212341e-02,  8.84939710e-02,\n",
       "        1.10048901e+00,  1.05006591e+00, -1.43436414e-01, -1.33698010e+00,\n",
       "        1.96660191e-01,  6.03903189e-01, -5.64514237e-01,  3.50854583e-01,\n",
       "       -2.07307951e-01, -5.43079607e-01,  2.16984458e+00, -5.12866428e-01,\n",
       "       -8.02126249e-01, -1.87566371e+00,  4.04384215e-01, -4.92391878e-01,\n",
       "       -9.31252667e-01,  2.01403759e-01, -1.39376603e+00,  4.03529500e-02,\n",
       "       -1.33084441e-01, -4.60747200e-01, -7.30907424e-01, -1.81692222e-01,\n",
       "        1.35707007e+00,  4.92033780e-01, -3.84393936e-01,  9.29257463e-01,\n",
       "        2.70949260e-01,  1.47994686e+00,  1.80801780e+00,  4.09746750e-01,\n",
       "        1.46503601e-01,  1.76369614e-02, -6.12882805e-01,  5.77480248e-01,\n",
       "        9.12778919e-01, -2.92359349e-01, -1.16662725e+00, -1.68230689e+00,\n",
       "       -4.38125901e-01,  1.46791001e-01, -9.41510543e-01,  3.58799509e-01,\n",
       "       -3.06692763e-01, -8.90238670e-01,  1.30484354e-01, -6.93376624e-02,\n",
       "        1.90750001e+00, -1.71466856e+00,  1.12798087e-01, -1.35748013e+00,\n",
       "        1.07660067e+00, -1.73359448e+00, -4.46976564e-01,  3.91008208e-01,\n",
       "       -5.31242912e-01, -1.07467231e+00,  2.19061377e+00,  1.11148719e+00,\n",
       "        3.11139794e-01, -1.68214566e+00,  3.21499779e-01, -1.14044329e+00,\n",
       "       -1.05542528e+00, -9.07865838e-01, -2.05638940e-01,  5.72014711e-01,\n",
       "       -9.19340434e-02, -1.85560006e+00, -4.40000566e-01,  9.87998373e-01,\n",
       "        2.31919708e+00,  8.68083944e-01,  5.42726544e-02, -5.69839123e-01,\n",
       "       -1.27647375e+00,  1.00388486e+00, -1.10771019e-01,  1.09432880e+00,\n",
       "       -7.04186580e-01,  8.01653770e-01,  6.67640327e-01, -4.43697953e-01,\n",
       "       -2.07936275e-01,  1.57397910e-01,  8.99087393e-01, -7.12516653e-01,\n",
       "       -2.31419874e-01,  3.17328745e-01,  4.69740791e-01, -9.20457190e-01,\n",
       "        7.98087578e-01, -3.07371895e-01, -4.32124439e-01,  1.56840271e+00,\n",
       "        8.47559270e-02,  5.98257062e-01, -2.60781388e-01, -1.52547131e+00,\n",
       "       -4.50590769e-02, -6.93881564e-01, -4.44107980e-01,  1.40449325e+00,\n",
       "       -8.29627105e-01,  1.16326571e-01, -1.73699913e+00,  5.12389803e-01,\n",
       "       -6.64075991e-01,  1.02356884e-01,  8.86266381e-01, -8.15922427e-01,\n",
       "        8.17105114e-01, -6.42461175e-01,  1.12220894e+00, -5.51546256e-01,\n",
       "       -1.56307892e+00,  5.12542887e-01,  9.89717891e-01,  1.57598425e+00,\n",
       "        2.48017357e-01, -1.87479953e+00, -3.43187875e-01, -1.16338311e+00,\n",
       "       -5.06025416e-01, -2.55193064e+00,  1.23104992e+00,  5.24050745e-01,\n",
       "       -1.07140357e+00,  9.04194446e-02, -9.13180140e-01, -4.18980260e-01,\n",
       "       -1.29334785e+00, -1.58080110e+00,  6.19292138e-01, -1.52520425e+00,\n",
       "       -8.77842986e-01,  8.60924383e-01,  5.63976593e-01,  1.17863896e+00,\n",
       "        7.18133944e-01,  1.85601300e-02, -9.95934727e-01,  8.59314973e-01,\n",
       "       -1.73639509e-01,  7.80703593e-01,  6.19281640e-01,  3.35089082e+00,\n",
       "        7.88101596e-02,  1.89045502e-01,  4.15238353e-01, -4.16253573e-01,\n",
       "        6.45682893e-01,  1.08915817e+00,  1.11695166e+00,  6.68530771e-01,\n",
       "        1.55642443e+00,  4.79659244e-01, -1.41196741e+00, -1.27378337e+00,\n",
       "        1.11738121e+00,  1.33742785e+00, -7.81223188e-01,  5.70533595e-01,\n",
       "       -5.76461016e-01,  6.89516780e-01,  2.37385509e-01,  2.00441268e-01,\n",
       "        4.34786539e-01,  3.91384495e-01, -3.12126496e-01, -1.74000381e+00,\n",
       "        1.80600486e+00,  1.20089233e-01,  1.39915975e+00, -3.55078578e-01,\n",
       "        1.22732492e+00,  1.00068033e+00, -1.28261371e+00,  1.05045860e+00,\n",
       "        1.90584484e+00, -1.01117282e+00, -1.57487003e+00, -3.10567326e-01,\n",
       "       -1.08908329e+00,  1.05864579e-02,  1.09883141e+00,  9.19057547e-01,\n",
       "        7.44963336e-01, -7.08540103e-01, -1.30374197e+00, -9.38047559e-01,\n",
       "        3.70974280e-01, -9.06785100e-01, -5.77353546e-01,  7.73557584e-01,\n",
       "        9.46485470e-01,  1.32413985e+00,  1.53151792e+00,  3.06086282e-01,\n",
       "        5.10552472e-02, -9.92959820e-01, -7.21248685e-01, -1.36222075e+00,\n",
       "       -9.21543561e-01, -8.55245969e-01, -1.13271218e-01, -8.21124717e-01,\n",
       "       -9.77685489e-01,  2.15282980e-01,  5.22594240e-01,  1.94124738e-01,\n",
       "        3.89173422e-01,  8.16429242e-01, -1.06521232e+00,  8.99238425e-01,\n",
       "        1.34306556e+00,  5.38305489e-02, -5.53528280e-01,  4.51409288e-01,\n",
       "        1.73259470e-01,  9.24976952e-01,  1.56642922e+00, -2.86834759e+00,\n",
       "       -5.86921253e-01, -2.31865925e-01,  3.09737310e-01, -4.61461663e-01,\n",
       "        4.70560400e-01, -1.40501332e+00, -2.88519140e-01, -2.63063778e+00,\n",
       "       -6.82775061e-02, -2.34674760e-01, -2.61409803e-01,  2.69716176e+00,\n",
       "       -6.75801470e-01,  8.42109380e-01,  7.15142146e-01, -6.44176024e-01,\n",
       "        1.79110869e-01, -2.37907625e+00,  1.32687574e-02,  1.73407138e+00,\n",
       "        1.09797430e+00,  3.14550758e-01, -6.36901137e-01, -1.44523499e-01,\n",
       "       -5.00770333e-01,  8.67874098e-02, -1.16618045e+00, -1.88571041e+00,\n",
       "        2.63512568e-01,  1.11514582e+00,  1.44234493e+00, -4.02470917e-01,\n",
       "        2.42684819e+00, -5.69676853e-01,  7.19437693e-01, -1.60668873e+00,\n",
       "       -2.89471885e-01, -3.01544578e-01,  1.14848399e+00, -9.47541715e-01,\n",
       "        1.47877704e+00,  2.30137108e-01, -1.29526169e+00,  5.55210667e-01,\n",
       "       -7.43420660e-01,  5.25343808e-01,  2.17975179e+00,  3.50274864e-01,\n",
       "        2.25986284e-01,  2.53223733e-01, -5.04248987e-01, -6.34073824e-01,\n",
       "        7.36183596e-01,  7.02265338e-01,  2.68336482e-01, -6.49693142e-01,\n",
       "       -2.23103381e-01,  3.51661118e-01,  1.76462814e-01, -9.18423430e-01,\n",
       "       -3.67401793e-01, -5.10675362e-01,  6.59754488e-01,  5.48870248e-01,\n",
       "       -7.67443870e-01,  1.40181434e+00,  3.43521750e-01, -1.87797559e+00,\n",
       "        7.00697015e-01, -2.07642357e-01,  1.34550004e-01,  7.91871763e-01,\n",
       "        3.79748378e-01,  2.07861532e-01,  8.43585587e-01, -9.05216748e-01,\n",
       "       -1.21066542e+00,  1.44327654e-01,  1.62822435e-01, -6.05349821e-01,\n",
       "        9.05130108e-01,  1.18515346e+00, -1.00717786e+00, -6.26244730e-02,\n",
       "       -2.84013142e-01,  4.98385279e-01, -1.96375010e+00,  5.04758499e-01,\n",
       "        4.05027893e-01, -7.75975714e-01,  3.79345106e-01,  1.26517619e+00,\n",
       "        7.14273201e-01, -1.63781261e+00,  1.11664819e-01,  6.90964067e-01,\n",
       "       -4.47360228e-01,  1.12857546e-01,  3.49432401e-01,  2.47166051e+00,\n",
       "       -9.31971410e-01,  6.77785492e-01, -1.80690169e-01, -4.42477670e-01,\n",
       "       -7.21030819e-01,  6.36160361e-01, -8.65341470e-02, -4.42798632e-01,\n",
       "        1.45593726e+00, -1.40774418e+00,  4.11110311e-01, -7.60651491e-01,\n",
       "       -6.06820968e-01,  5.18435998e-01,  1.11150427e+00,  8.49625430e-01,\n",
       "       -1.14027287e+00, -1.17864312e-01,  2.25495535e-01,  4.52575832e-01,\n",
       "       -2.67139863e-01, -1.23963160e+00, -8.83661500e-01,  3.29240643e-01,\n",
       "        2.27689777e+00, -1.23822170e+00,  9.14837276e-01,  3.99094182e-01,\n",
       "        1.35480136e+00,  4.99479077e-01, -6.73390103e-01,  3.60528928e-01,\n",
       "       -6.35580241e-02, -8.66302215e-02,  1.61750613e+00,  5.18133612e-01,\n",
       "        7.95442528e-01,  2.61871418e-01,  2.02027920e-01,  5.10829635e-01,\n",
       "       -1.53689774e+00,  1.09525652e+00, -6.79822519e-01, -8.33593720e-01,\n",
       "        1.05053516e+00, -6.11873509e-01,  1.26945650e+00, -5.67558267e-01,\n",
       "        1.08263958e+00,  7.97535761e-01,  1.90090303e+00,  2.39344509e-01,\n",
       "        1.04268373e+00, -4.82162232e-01,  4.11166519e-01, -2.60137455e-01,\n",
       "        7.99061936e-01,  1.92469476e-01, -3.22507310e-01,  1.00814843e-01,\n",
       "        1.26453586e+00, -6.51944376e-01,  1.18053552e+00,  1.52452355e+00,\n",
       "        2.34526806e+00, -4.94470222e-01, -3.01386107e-01,  1.49770138e+00,\n",
       "       -1.90072520e+00,  9.27405074e-01,  1.47296264e-01,  8.12889281e-02,\n",
       "        5.04902703e-01,  1.06313570e+00, -3.91121952e-01,  7.87321312e-01,\n",
       "       -6.03211046e-01,  2.35833138e+00,  9.73884928e-02,  7.23559941e-01,\n",
       "       -7.57350417e-01, -3.18080519e-01, -3.46021777e-01, -2.28443488e-01,\n",
       "        6.69662616e-01, -8.78026576e-01,  5.00124551e-01, -2.63743485e-01,\n",
       "       -3.36055417e+00, -6.15741283e-01, -8.19427986e-01, -5.13740266e-01,\n",
       "       -8.80651261e-01,  6.71879343e-01,  9.06403091e-01, -4.77611762e-01,\n",
       "        8.27047279e-01,  1.42207767e+00,  5.63130945e-01, -1.28041179e+00,\n",
       "        7.65363075e-01,  1.95315878e-01,  8.24028736e-02, -5.46695538e-01,\n",
       "        1.07384797e+00, -3.43394172e-01, -5.71440741e-01, -1.86365240e+00,\n",
       "        4.94941426e-02, -1.14707125e-01,  8.34162358e-01,  8.13939380e-01,\n",
       "       -1.02422383e+00, -2.50546984e+00,  6.14825689e-01, -1.81331600e+00,\n",
       "        4.75979596e-01,  4.92745145e-01,  8.88164126e-01, -1.47181425e+00,\n",
       "        1.72687361e+00,  1.91440831e-02, -1.00849044e+00,  1.27094244e+00,\n",
       "        3.50355987e+00,  6.10312258e-01,  8.95145813e-01,  7.22220548e-02,\n",
       "       -8.00189219e-01,  3.27089114e-01,  2.44144533e-01, -9.25648608e-01,\n",
       "        4.11226695e-01,  8.97683838e-01, -3.68261127e-01,  5.27264419e-01,\n",
       "       -3.57560178e-01, -1.72147990e-01, -1.52117516e+00, -4.01794879e-01,\n",
       "        7.03563420e-01, -3.22272411e-01,  4.88047503e-01,  5.80973795e-01,\n",
       "        1.38435891e+00,  1.18058433e+00, -9.92014667e-01,  1.52101685e+00,\n",
       "       -2.80295123e-01,  1.49110943e+00, -2.09269983e-01,  5.75819344e-01,\n",
       "       -4.38729766e-01,  5.36912247e-01, -1.20706161e+00, -1.10391628e+00,\n",
       "        8.63964946e-01, -3.53429140e-01,  2.75628316e-01,  4.22685208e-01,\n",
       "       -7.09956301e-01,  1.22559525e+00,  3.83339339e-01, -1.24465612e+00,\n",
       "        6.87949426e-02, -1.10517050e+00, -6.74130845e-01, -1.51077570e+00,\n",
       "        1.82726911e-01,  2.37040818e-01,  1.35338275e+00,  1.44006081e-01,\n",
       "        5.20035163e-01, -1.16498166e-01,  8.20237644e-01, -6.85264597e-01,\n",
       "        2.67169263e-01, -1.47995865e+00,  1.72128602e+00, -6.30838160e-01,\n",
       "        1.05172270e-01,  1.29356664e+00, -5.34281520e-01, -7.14789945e-01,\n",
       "       -7.78239498e-01,  2.03575643e+00,  3.81282574e-01, -4.98552923e-01,\n",
       "        6.82538453e-01,  4.67276743e-01,  2.89335202e-01, -2.39396207e-01,\n",
       "       -1.16446998e+00, -7.03494836e-01, -1.98070713e-01,  5.54143138e-01,\n",
       "        1.22391154e+00, -8.03319141e-02, -3.77348812e-01,  6.87453735e-01,\n",
       "       -1.34797938e-01,  1.96364939e+00,  1.02284604e+00,  2.15787159e-01,\n",
       "        3.45629271e-01,  2.96814628e+00,  2.38169409e+00, -1.35209383e+00,\n",
       "        6.81865942e-01,  2.94916801e-01,  8.49493292e-01, -1.10858300e+00,\n",
       "        7.78105678e-01,  1.93058979e+00,  1.91644086e+00,  3.53133238e-01,\n",
       "        5.45113422e-01, -9.86462725e-01, -1.35359620e+00,  5.45789106e-01,\n",
       "        5.86878195e-01,  3.33182242e-01, -2.49335479e+00, -8.66886777e-02,\n",
       "       -4.30456844e-01,  2.14875606e-01, -2.70982493e-01, -3.22553933e-01,\n",
       "       -7.42100589e-01,  7.25332900e-02, -7.28963709e-01, -6.30524129e-01,\n",
       "        1.85384815e+00, -4.97850104e-01, -2.21655149e+00, -2.56976078e-02,\n",
       "        4.31182321e-02, -1.69605011e+00, -7.36473537e-01,  6.40260940e-01,\n",
       "        8.00365338e-01,  7.10968001e-01, -8.49081299e-01,  5.66692439e-01,\n",
       "       -4.91428171e-02,  2.41492804e-01, -2.77348201e-01, -5.98549432e-01,\n",
       "        8.89170153e-01, -1.34804208e+00,  1.89792636e+00,  8.92444349e-01,\n",
       "       -1.15589099e+00, -2.36466157e+00,  1.33854009e-01, -1.61272693e+00,\n",
       "        1.95466469e+00, -1.59933641e-01,  1.97056408e+00,  2.94110103e-02,\n",
       "        1.61001486e+00, -1.45552201e+00, -3.92303242e-01,  4.98382947e-01,\n",
       "       -7.03178051e-01, -7.40048277e-01, -7.66573259e-02,  3.85531811e-01,\n",
       "       -1.57261180e-01, -5.10189611e-02, -1.88657005e-01, -8.60689655e-01,\n",
       "       -1.67711339e+00, -7.92291538e-01,  5.98641732e-01,  4.06338124e-01,\n",
       "        1.32943434e+00,  9.54738936e-01, -1.10824789e-02,  3.75526751e-02,\n",
       "       -7.79377010e-01,  5.11981660e-01,  1.11507712e+00,  1.08973017e+00,\n",
       "       -8.37971969e-01, -3.87805644e-02, -1.54703737e+00,  9.37762998e-02,\n",
       "       -6.85022499e-01, -6.91629858e-01,  7.54855777e-01,  1.23148445e-01,\n",
       "       -9.33461973e-01, -1.46264171e+00, -1.03515405e+00, -3.42546037e-01,\n",
       "        5.73964094e-01, -1.52338977e+00,  1.41618638e+00, -1.00550377e+00,\n",
       "       -2.69352016e-01, -6.68819172e-01,  1.79182869e-01,  1.40728549e+00,\n",
       "       -1.44407848e+00,  2.75060773e-01,  1.73887927e+00,  5.51276419e-01])"
      ]
     },
     "execution_count": 14,
     "metadata": {},
     "output_type": "execute_result"
    }
   ],
   "source": [
    "# tạo mảng phân phối chuẩn (mean, var)\n",
    "mean = 0\n",
    "var = 1\n",
    "size = 1000\n",
    "Xtest = np.random.randn(size)\n",
    "Xtest"
   ]
  },
  {
   "cell_type": "code",
   "execution_count": 9,
   "id": "38690b7e",
   "metadata": {},
   "outputs": [],
   "source": [
    "def f(x):\n",
    "    return KrernelEstimation(data=Xtrain,typeKernel=5, h=0.01, x=Xtest)"
   ]
  },
  {
   "cell_type": "code",
   "execution_count": 10,
   "id": "6b07da68",
   "metadata": {},
   "outputs": [
    {
     "data": {
      "text/plain": [
       "[<matplotlib.lines.Line2D at 0x28f8044f100>]"
      ]
     },
     "execution_count": 10,
     "metadata": {},
     "output_type": "execute_result"
    },
    {
     "data": {
      "image/png": "[encoded data removed]",
      "text/plain": [
       "<Figure size 432x288 with 1 Axes>"
      ]
     },
     "metadata": {
      "needs_background": "light"
     },
     "output_type": "display_data"
    }
   ],
   "source": [
    "x = np.linspace(-4,4,1000)\n",
    "# plt.plot(Xtest, KernelEstimation(data=Xtrain,typeKernel=5, h=1, x=Xtest), 'ob', ms=0.05)\n",
    "plt.plot(Xtest, KernelEstimation(data=Xtrain,typeKernel=5, h=0.2, x=Xtest), 'or', ms=0.05)\n",
    "plt.plot(Xtest, KernelEstimation(data=Xtrain,typeKernel=5, h=0.1, x=Xtest), 'og', ms=0.05)\n",
    "# plt.scatter(Xtest, KernelEstimation(data=Xtrain,typeKernel=5, h=0.1, x=Xtest), linewidths=0.01)\n",
    "plt.plot(x, norm.pdf(x))"
   ]
  },
  {
   "cell_type": "code",
   "execution_count": null,
   "id": "6fedf146",
   "metadata": {},
   "outputs": [],
   "source": [
    "x = np.linspace(-4,4,1000)\n",
    "# plt.plot(Xtest, KernelEstimation(data=Xtrain,typeKernel=5, h=1, x=Xtest), 'ob', ms=0.05)\n",
    "plt.plot(Xtest, KernelEstimation(data=Xtrain,typeKernel=5, h=0.2, x=Xtest), 'or', ms=0.05)\n",
    "plt.plot(Xtest, KernelEstimation(data=Xtrain,typeKernel=5, h=0.1, x=Xtest), 'og', ms=0.05)\n",
    "# plt.scatter(Xtest, KernelEstimation(data=Xtrain,typeKernel=5, h=0.1, x=Xtest), linewidths=0.01)\n",
    "plt.plot(x, norm.pdf(x))"
   ]
  },
  {
   "cell_type": "code",
   "execution_count": 20,
   "id": "3088c60e",
   "metadata": {
    "scrolled": false
   },
   "outputs": [],
   "source": [
    "x = np.linspace(-4,4,1000)\n",
    "def f(x, typeKernel):\n",
    "    return KernelEstimation(data=Xtrain,typeKernel=typeKernel, h=0.2, x=x)\n",
    "\n",
    "# plt.plot(Xtest, KernelEstimation(data=Xtrain,typeKernel=6, h=0.2, x=Xtest), 'ob', ms=0.05)\n",
    "# plt.plot(Xtest, yTest, 'or', ms=0.05)\n",
    "# plt.plot(Xtest, KernelEstimation(data=Xtrain,typeKernel=3, h=0.2, x=Xtest), 'og', ms=0.05)\n",
    "# plt.scatter(Xtest, KernelEstimation(data=Xtrain,typeKernel=5, h=0.1, x=Xtest), linewidths=0.01)\n",
    "# plt.plot(x, norm.pdf(x))"
   ]
  },
  {
   "cell_type": "code",
   "execution_count": 23,
   "id": "64387625",
   "metadata": {},
   "outputs": [
    {
     "data": {
      "text/plain": [
       "[<matplotlib.lines.Line2D at 0x28f82c3b970>]"
      ]
     },
     "execution_count": 23,
     "metadata": {},
     "output_type": "execute_result"
    },
    {
     "data": {
      "image/png": "[encoded data removed]",
      "text/plain": [
       "<Figure size 432x288 with 1 Axes>"
      ]
     },
     "metadata": {
      "needs_background": "light"
     },
     "output_type": "display_data"
    }
   ],
   "source": [
    "def plot(Xtest, Xtrain, typeKernel, h, color):\n",
    "    yTest = []\n",
    "    for x in Xtest:\n",
    "        yTest.append(f(x, typeKernel))\n",
    "    plt.plot(Xtest, yTest, color, ms=1)\n",
    "plot(Xtest, Xtrain, typeKernel=1, h=0.5, color='or')\n",
    "plot(Xtest, Xtrain, typeKernel=2, h=0.5, color='ob')\n",
    "plot(Xtest, Xtrain, typeKernel=3, h=0.5, color='og')\n",
    "plt.plot(x, norm.pdf(x))\n",
    "\n"
   ]
  },
  {
   "cell_type": "code",
   "execution_count": 24,
   "id": "bef0812a",
   "metadata": {},
   "outputs": [
    {
     "data": {
      "text/plain": [
       "[<matplotlib.lines.Line2D at 0x28f82627ee0>]"
      ]
     },
     "execution_count": 24,
     "metadata": {},
     "output_type": "execute_result"
    },
    {
     "data": {
      "image/png": "[encoded data removed]",
      "text/plain": [
       "<Figure size 432x288 with 1 Axes>"
      ]
     },
     "metadata": {
      "needs_background": "light"
     },
     "output_type": "display_data"
    }
   ],
   "source": [
    "def plot(Xtest, Xtrain, typeKernel, h, color):\n",
    "    yTest = []\n",
    "    for x in Xtest:\n",
    "        yTest.append(f(x, typeKernel))\n",
    "    plt.plot(Xtest, yTest, color, ms=0.1)\n",
    "plot(Xtest, Xtrain, typeKernel=1, h=0.2, color='or')\n",
    "plot(Xtest, Xtrain, typeKernel=2, h=0.2, color='ob')\n",
    "plot(Xtest, Xtrain, typeKernel=3, h=0.2, color='og')\n",
    "plt.plot(x, norm.pdf(x))\n",
    "\n"
   ]
  },
  {
   "cell_type": "code",
   "execution_count": null,
   "id": "fddb21a0",
   "metadata": {},
   "outputs": [],
   "source": []
  }
 ],
 "metadata": {
  "kernelspec": {
   "display_name": "Python 3 (ipykernel)",
   "language": "python",
   "name": "python3"
  },
  "language_info": {
   "codemirror_mode": {
    "name": "ipython",
    "version": 3
   },
   "file_extension": ".py",
   "mimetype": "text/x-python",
   "name": "python",
   "nbconvert_exporter": "python",
   "pygments_lexer": "ipython3",
   "version": "3.9.12"
  }
 },
 "nbformat": 4,
 "nbformat_minor": 5
}
