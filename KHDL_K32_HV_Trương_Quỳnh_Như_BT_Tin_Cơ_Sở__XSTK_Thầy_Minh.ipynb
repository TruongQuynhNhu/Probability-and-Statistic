{
  "nbformat": 4,
  "nbformat_minor": 0,
  "metadata": {
    "colab": {
      "provenance": [],
      "collapsed_sections": []
    },
    "kernelspec": {
      "name": "python3",
      "display_name": "Python 3"
    },
    "language_info": {
      "name": "python"
    }
  },
  "cells": [
    {
      "cell_type": "markdown",
      "source": [
        "\n",
        "**Lab 1**\n",
        "> Bài 1: Viết hàm tính các Thống kê: Trung bình mẫu, Phương sai mẫu, Độ lệch chuẩn Mode, Median, Phân vị 25%, 75%, Range data\n",
        "\n"
      ],
      "metadata": {
        "id": "eIxp09k_gaS6"
      }
    },
    {
      "cell_type": "code",
      "execution_count": null,
      "metadata": {
        "id": "HG1-pPWVgQuR"
      },
      "outputs": [],
      "source": [
        "# Bai 1\n",
        "# Input: Mảng 1 chiều (np.array)\n",
        "# Output: các Thống kê: Trung bình mẫu, Phương sai mẫu, Độ lệch chuẩn, Mode, Median, Phân vị 25%, 75%, Range data\n",
        "import numpy as np\n",
        "import math\n",
        "# Trung bình mẫu\n",
        "def MeanE(arr):\n",
        "  S = 0\n",
        "  for i in arr:\n",
        "    S+= i\n",
        "  return S/len(arr)\n",
        "\n",
        "# Phương sai mẫu\n",
        "def VarE(arr):\n",
        "  S = 0\n",
        "  mean = MeanE(arr)\n",
        "  for i in arr:\n",
        "    S = S + (i - mean)**2\n",
        "  return (S / (len(arr) - 1))\n",
        "\n",
        "# Độ lệch chuẩn có hiệu chỉnh của mẫu\n",
        "def StdE(arr):\n",
        "  return math.sqrt(VarE(arr))\n",
        "\n",
        "# Sắp xếp mảng\n",
        "def Sort(arr):\n",
        "  for i in range(len(arr)-1):\n",
        "    for j in range(i + 1, len(arr)):\n",
        "      if arr[i]>arr[j]:\n",
        "        tem = arr[i]\n",
        "        arr[i] = arr[j]\n",
        "        arr[j] = tem\n",
        "  return arr\n",
        "\n",
        "# Mode\n",
        "def Mode(arr):\n",
        "  Sort(arr)\n",
        "  n = len(arr)\n",
        "  max = 0\n",
        "  rep = 0 # to check if there many equally common values\n",
        "  for i in range(n):\n",
        "    count = 0\n",
        "    for j in range(0, i + 1):\n",
        "      if arr[j] == arr[i]:\n",
        "        count+= 1\n",
        "    if count == max:\n",
        "      rep = rep + 1\n",
        "    if count > max:\n",
        "      max = count\n",
        "      ModeValue = arr[i]\n",
        "      rep = 1\n",
        "  if rep > 1:\n",
        "    return \"No unique mode; found {} equally common values\".format(rep)\n",
        "  return ModeValue\n",
        "\n",
        "# Median\n",
        "def MedianE(arr):\n",
        "  Sort(arr)\n",
        "  n = len(arr)\n",
        "  if n%2 == 0:\n",
        "    return (arr[n//2] + arr[n//2-1]) / 2\n",
        "  else:\n",
        "    return arr[n//2]\n",
        "\n",
        "# Phân vị 25%\n",
        "def Quartile1E(arr):\n",
        "  n = len(arr)\n",
        "  Sort(arr)\n",
        "  return MedianE(arr[0 : (n//2)])\n",
        "\n",
        "# Phân vị 75%\n",
        "def Quartile3E(arr):\n",
        "  n = len(arr)\n",
        "  Sort(arr)\n",
        "  return MedianE(arr[-(n//2):])\n",
        "\n",
        "# Khoảng tứ phân vị IQR\n",
        "def IQR(arr):\n",
        "  return Quartile3E(arr) - Quartile1E(arr)\n",
        "\n",
        "# Hệ số biến thiên (Coefficient of variation)\n",
        "def CV(arr):\n",
        "  return StdE(arr) / MeanE(arr) * 100\n",
        "\n",
        "# Range Data\n",
        "def rangedata(arr):\n",
        "  Sort(arr)\n",
        "  return str(arr[0])+\"-\"+str(arr[-1])"
      ]
    },
    {
      "cell_type": "code",
      "source": [
        "# test bài 1:\n",
        "a = \"5.08 5.44 6.66 5.07 6.80 5.43 4.83 4.00 4.41 4.38 7.00 5.72 4.53 6.43 3.97 4.19 6.26 6.72 5.26 5.48 4.95 6.33 4.93 5.61 4.66 7.00 5.57 3.42 5.18 4.54\"\n",
        "arr1 = [float(e) for e in a.split(\" \")]\n",
        "MeanE(arr1)\n",
        "# VarE(arr1)\n",
        "# StdE(arr1)\n",
        "# Sort(arr1)\n",
        "# Mode(arr1)\n",
        "# MedianE(arr1)\n",
        "# Quartile1E(arr1)\n",
        "# Quartile3E(arr1)\n",
        "# IQR(arr1)\n",
        "# CV(arr1)\n",
        "# rangedata(arr1)"
      ],
      "metadata": {
        "colab": {
          "base_uri": "https://localhost:8080/"
        },
        "id": "_xzoZEcUfCvj",
        "outputId": "2de26b21-651c-463d-d855-2c947610b317"
      },
      "execution_count": 143,
      "outputs": [
        {
          "output_type": "execute_result",
          "data": {
            "text/plain": [
              "5.328333333333333"
            ]
          },
          "metadata": {},
          "execution_count": 143
        }
      ]
    },
    {
      "cell_type": "markdown",
      "source": [
        "**Lab 1:**\n",
        "\n",
        "\n",
        "> Bài 2: Viết hàm xây dựng Khoảng tin cậy cho TB\n",
        "\n"
      ],
      "metadata": {
        "id": "iT9wcSa3L8Lx"
      }
    },
    {
      "cell_type": "code",
      "source": [
        "# bài 2:Viết hàm xây dựng Khoảng tin cậy cho TB\n",
        "# Input: Mảng 1 chiều (np.array), độ lệch chuẩn nếu có, độ tin cậy (1-alpha)100%\n",
        "# Output: Khoảng tin cậy của TB mẫu\n",
        "import numpy as np\n",
        "import math\n",
        "from scipy.stats import t, norm\n",
        "\n",
        "# 1. Trung bình mẫu\n",
        "def MeanE(arr):\n",
        "  S = 0\n",
        "  for i in arr:\n",
        "    S+= i\n",
        "  return S/len(arr)\n",
        "\n",
        "# 2. Phương sai mẫu\n",
        "def VarE(arr):\n",
        "  S = 0\n",
        "  mean = MeanE(arr)\n",
        "  for i in arr:\n",
        "    S = S + (i - mean)**2\n",
        "  return (S / (len(arr) - 1))\n",
        "\n",
        "# 3. Độ lệch chuẩn có hiệu chỉnh của mẫu\n",
        "def StdE(arr):\n",
        "  return math.sqrt(VarE(arr))\n",
        "\n",
        "# 4. Khoảng tin cậy của TB mẫu\n",
        "def CI_Average(arr, confidence_level, standard_deviation=None):\n",
        "  n = len(arr)\n",
        "  alpha = 1 - confidence_level\n",
        "  # when sigma is unknown\n",
        "  if standard_deviation == None:\n",
        "    s = StdE(arr)\n",
        "    tE = t.ppf(1-alpha/2, n-1)\n",
        "    e = tE * s/math.sqrt(n)\n",
        "  # when sigma is unknown\n",
        "  else:\n",
        "    z = norm.ppf(1-alpha/2)\n",
        "    e = z * standard_deviation/math.sqrt(n)\n",
        "  mean = MeanE(arr)\n",
        "  print(mean, e)\n",
        "  return print('Khoang tin cay voi Do Tin Cay {:.2f} la {:.5f} den {:.5f}'.format(confidence_level*100, mean - e, mean + e))\n"
      ],
      "metadata": {
        "id": "XoWvGNJYycSX"
      },
      "execution_count": 73,
      "outputs": []
    },
    {
      "cell_type": "code",
      "source": [
        "# Test bài 2: 53.2 < Mu < 56.2\n",
        "a =\"62 50 53 57 41 53 55 61 59 64 50 53 64 62 50 68 54 55 57 50 55 50 56 55 46 55 53 54 52 47 47 55 57 48 63 57 57 55 53 59 53 52 50 55 60 50 56 58\"\n",
        "arr1 = [float(e) for e in a.split(\" \")]\n",
        "CI_Average(arr1, 0.95)\n"
      ],
      "metadata": {
        "colab": {
          "base_uri": "https://localhost:8080/"
        },
        "id": "seMOzmbeS_Qm",
        "outputId": "40e0d9c9-7f27-43b1-dca8-ecda37cc01bd"
      },
      "execution_count": 75,
      "outputs": [
        {
          "output_type": "stream",
          "name": "stdout",
          "text": [
            "54.708333333333336 1.5188288095408793\n",
            "Khoang tin cay voi Do Tin Cay 95.00 la 53.18950 den 56.22716\n"
          ]
        }
      ]
    },
    {
      "cell_type": "markdown",
      "source": [
        "**Lab 2:**\n",
        "\n",
        "\n",
        "> Bài 3: Viết hàm khẳng định giả thuyết một mẫu\n",
        "\n"
      ],
      "metadata": {
        "id": "RS2tdQcIWblz"
      }
    },
    {
      "cell_type": "code",
      "source": [
        "# Bài 3: Hàm kiểm định giả thuyết 1 mẫu\n",
        "# Input:   \n",
        "        #  Mảng dữ liệu mẫu 1 chiều =n, \n",
        "        #  Hệ số TB cần khẳng định μ0\n",
        "        #  Giả sử σ là tùy chọn\n",
        "        #  Loại kiểm định giả thiết: nhỏ, lớn hơn, bằng nhau\n",
        "        #  Mức ý nghĩa α\n",
        "# Output: Bác bỏ hay không bác bỏ H0\n",
        "\n",
        "import math\n",
        "from scipy.stats import t, norm\n",
        "\n",
        "# 1. Trung bình mẫu\n",
        "def MeanE(arr):\n",
        "  S = 0\n",
        "  for i in arr:\n",
        "    S+= i\n",
        "  return S/len(arr)\n",
        "\n",
        "# 2. Phương sai mẫu\n",
        "def VarE(arr):\n",
        "  S = 0\n",
        "  mean = MeanE(arr)\n",
        "  for i in arr:\n",
        "    S = S + (i - mean)**2\n",
        "  return (S / (len(arr) - 1))\n",
        "\n",
        "# 3. Độ lệch chuẩn có hiệu chỉnh của mẫu\n",
        "def StdE(arr):\n",
        "  return math.sqrt(VarE(arr))\n",
        "\n",
        "# 4. Kiểm định giả thuyết với giá trị trung binh\n",
        "def Test_Average(X, Mu0, alpha, key, sigma=None):\n",
        "  #key: 0: H0: μ <= μ0, \n",
        "      # 1: H0: μ = μ0,\n",
        "      # 2: H0: μ >= μ0\n",
        "  n = len(X)\n",
        "  TBM = MeanE(X)\n",
        "  # sigma is known, using Z-test\n",
        "  if sigma is not None:\n",
        "    Z0 = (TBM - Mu0) / (sigma / math.sqrt(n))\n",
        "    print('Z0 =',Z0)\n",
        "    if key == 1:\n",
        "      p_value = 2 * (1 - norm.cdf(abs(Z0)))\n",
        "    elif key == 0:\n",
        "      p_value = norm.cdf(Z0)\n",
        "    else:\n",
        "      p_value = 1 - norm.cdf(Z0)\n",
        "  # sigma is unknown, using t-test\n",
        "  else:\n",
        "    S = StdE(X)\n",
        "    T0 = (TBM - Mu0) / (S / math.sqrt(n))\n",
        "    print('T0 =',T0)\n",
        "    if key == 1:\n",
        "      p_value = 2 * (1 - t.cdf(abs(T0), n-1))\n",
        "    elif key == 0:\n",
        "      p_value = t.cdf(T0, n-1)\n",
        "    else:\n",
        "      p_value = 1 - t.cdf(T0, n-1)\n",
        "  print('p-value =', p_value)\n",
        "  \n",
        "  if p_value <= alpha:\n",
        "    return 'Reject H0'\n",
        "  else:\n",
        "    return 'Not reject H0'"
      ],
      "metadata": {
        "id": "Ssa1b6SCTnyt"
      },
      "execution_count": 107,
      "outputs": []
    },
    {
      "cell_type": "code",
      "source": [
        "# Test bài 3:\n",
        "a = '64.1, 64.7, 64.5, 64.6, 64.5, 64.3, 64.6, 64.8, 64.2, 64.3'\n",
        "arr1 = [float(e) for e in a.split(\", \")]\n",
        "Test_Average(arr1, Mu0=66, alpha=0.05, key=1, sigma=1)"
      ],
      "metadata": {
        "colab": {
          "base_uri": "https://localhost:8080/",
          "height": 70
        },
        "id": "YvfpB5IJEsca",
        "outputId": "e29bd519-dc7f-4fde-9a56-d02e8e6c718a"
      },
      "execution_count": 108,
      "outputs": [
        {
          "output_type": "stream",
          "name": "stdout",
          "text": [
            "Z0 = -4.869907596659324\n",
            "p-value = 1.1165044810912406e-06\n"
          ]
        },
        {
          "output_type": "execute_result",
          "data": {
            "text/plain": [
              "'Reject H0'"
            ],
            "application/vnd.google.colaboratory.intrinsic+json": {
              "type": "string"
            }
          },
          "metadata": {},
          "execution_count": 108
        }
      ]
    },
    {
      "cell_type": "code",
      "source": [
        "# test Bài 3\n",
        "#z = 0.73, not reject H0\n",
        "a = \"14.1 14.5 15.5 16.0 16.0 16.7 16.9 17.1 17.5 17.8 17.8 18.1 18.2 18.3 18.3 19.0 19.2 19.4 20.0 20.0 20.8 20.8 21.0 21.5 23.5 27.5 27.5 28.0 28.3 30.0 30.0 31.6 31.7 31.7 32.5 33.5 33.9 35.0 35.0 35.0 36.7 40.0 40.0 41.3 41.7 47.5 50.0 51.0 51.8 54.4 55.0 57.0\"\n",
        "arr1 = [float(e) for e in a.split(\" \")]\n",
        "Test_Average(arr1, Mu0=30, alpha=0.05, key=0, sigma=None)"
      ],
      "metadata": {
        "colab": {
          "base_uri": "https://localhost:8080/",
          "height": 70
        },
        "id": "OFAcreVFxDIN",
        "outputId": "e4761e26-d433-44da-81f7-4bea6ea87680"
      },
      "execution_count": 85,
      "outputs": [
        {
          "output_type": "stream",
          "name": "stdout",
          "text": [
            "T0 = -0.728160897530023\n",
            "p-value = 0.23492266218561836\n"
          ]
        },
        {
          "output_type": "execute_result",
          "data": {
            "text/plain": [
              "'Not reject H0'"
            ],
            "application/vnd.google.colaboratory.intrinsic+json": {
              "type": "string"
            }
          },
          "metadata": {},
          "execution_count": 85
        }
      ]
    },
    {
      "cell_type": "code",
      "source": [
        "# Test bài 3\n",
        "# T0 = 1.04, not reject H0\n",
        "a = \"25.8 36.6 26.3 21.8 27.2\"\n",
        "arr1 = [float(e) for e in a.split(\" \")]\n",
        "Test_Average(arr1, Mu0=25, alpha=0.05, key=2, sigma=None)"
      ],
      "metadata": {
        "colab": {
          "base_uri": "https://localhost:8080/",
          "height": 70
        },
        "id": "Kp2_PyNIyNvt",
        "outputId": "735a6c59-cc5c-4680-d0e4-3a5ef7b0acb8"
      },
      "execution_count": 86,
      "outputs": [
        {
          "output_type": "stream",
          "name": "stdout",
          "text": [
            "T0 = 1.0381972428700208\n",
            "p-value = 0.1789067372150288\n"
          ]
        },
        {
          "output_type": "execute_result",
          "data": {
            "text/plain": [
              "'Not reject H0'"
            ],
            "application/vnd.google.colaboratory.intrinsic+json": {
              "type": "string"
            }
          },
          "metadata": {},
          "execution_count": 86
        }
      ]
    },
    {
      "cell_type": "markdown",
      "source": [
        "**Lab 2:**\n",
        "\n",
        "\n",
        "> Bài 4: Viết hàm kiểm định giả thuyết phương sai (độ lệch chuẩn)"
      ],
      "metadata": {
        "id": "FH8a-gz-0Ukr"
      }
    },
    {
      "cell_type": "code",
      "source": [
        "# Bài 4:\n",
        "# Input:   \n",
        "        #  Mảng dữ liệu mẫu x 1 chiều cỡ mẫu =n, \n",
        "        #  Hệ số σ0 cần khẳng định\n",
        "        #  Loại kiểm định giả thiết: nhỏ, lớn hơn, bằng nhau\n",
        "        #  Mức ý nghĩa α\n",
        "# Output: Bác bỏ hay không bác bỏ H0\n",
        "from scipy.stats import chi2\n",
        "\n",
        "# Phương sai mẫu\n",
        "def VarE(arr):\n",
        "  S = 0\n",
        "  mean = MeanE(arr)\n",
        "  for i in arr:\n",
        "    S = S + (i - mean)**2\n",
        "  return (S / (len(arr) - 1))\n",
        "\n",
        "# Độ lệch chuẩn có hiệu chỉnh của mẫu\n",
        "def StdE(arr):\n",
        "  return math.sqrt(VarE(arr))\n",
        "\n",
        "# Hàm kiểm định giả thuyết Phương sai:\n",
        "def Test_Variance(X, alpha, key, Sigma0):\n",
        "  #key: 0: H0: σ <= σ0, \n",
        "      # 1: H0: σ = σ0,\n",
        "      # 2: H0: σ >= σ0\n",
        "  n = len(X)\n",
        "  s = StdE(X)\n",
        "  print('s =',s)\n",
        "  Chi2 = (n - 1) * (s**2) / (Sigma0**2)\n",
        "  if key == 1:\n",
        "    p_value = 2 * ( 1- chi2.cdf(abs(Chi2), n-1))\n",
        "  elif key == 0:\n",
        "    p_value = chi2.cdf(Chi2, n-1)\n",
        "  else:\n",
        "    p_value = 1 - chi2.cdf(Chi2, n-1)\n",
        "  print('p-value = ', p_value)\n",
        "  print('Chi2 = ', Chi2)\n",
        "  if p_value <= alpha:\n",
        "    return 'Reject H0'\n",
        "  else:\n",
        "    return 'Not reject H0'"
      ],
      "metadata": {
        "id": "DNVdXxCqWtTr"
      },
      "execution_count": 109,
      "outputs": []
    },
    {
      "cell_type": "code",
      "source": [
        "# Test bài 4:\n",
        "a = \"203.1 184.5 206.8 211.0 218.3 174.2 193.2 201.9 199.9 194.3 199.4 193.6 194.6 187.2 197.8 184.3 196.1 196.4 197.5 187.9\"\n",
        "arr1 = [float(e) for e in a.split(\" \")]\n",
        "Test_Variance(arr1, alpha=0.05, key=2, Sigma0=5)"
      ],
      "metadata": {
        "colab": {
          "base_uri": "https://localhost:8080/",
          "height": 87
        },
        "id": "GZ0-EDCL5hAx",
        "outputId": "125d2061-b7fd-4cc5-ed1b-634839e024ed"
      },
      "execution_count": 110,
      "outputs": [
        {
          "output_type": "stream",
          "name": "stdout",
          "text": [
            "s = 9.900186069490129\n",
            "p-value =  1.623706469278119e-08\n",
            "Chi2 =  74.49040000000008\n"
          ]
        },
        {
          "output_type": "execute_result",
          "data": {
            "text/plain": [
              "'Reject H0'"
            ],
            "application/vnd.google.colaboratory.intrinsic+json": {
              "type": "string"
            }
          },
          "metadata": {},
          "execution_count": 110
        }
      ]
    },
    {
      "cell_type": "code",
      "source": [
        "# Test bài 4\n",
        "a = '1470 1510 1690 1740 1900 2000 2030 2100 2190 2200 2290 2380 2390 2480 2500 2580 2700'\n",
        "arr1 = [float(e) for e in a.split(\" \")]\n",
        "Test_Variance(arr1, alpha=0.05, key=1, Sigma0=277)"
      ],
      "metadata": {
        "colab": {
          "base_uri": "https://localhost:8080/",
          "height": 87
        },
        "id": "EGPPwGg3KN0G",
        "outputId": "7757250f-0876-408a-9fc2-84f04ad2a5de"
      },
      "execution_count": 114,
      "outputs": [
        {
          "output_type": "stream",
          "name": "stdout",
          "text": [
            "s = 370.57288717050307\n",
            "p-value =  0.05302307810696383\n",
            "Chi2 =  28.635694917099382\n"
          ]
        },
        {
          "output_type": "execute_result",
          "data": {
            "text/plain": [
              "'Not reject H0'"
            ],
            "application/vnd.google.colaboratory.intrinsic+json": {
              "type": "string"
            }
          },
          "metadata": {},
          "execution_count": 114
        }
      ]
    },
    {
      "cell_type": "markdown",
      "source": [
        "**Lab 3:**\n",
        "> Bài 5: hàm kiểm định 2 mẫu để so sánh 2 giá trị TB"
      ],
      "metadata": {
        "id": "2X7H5d_f191C"
      }
    },
    {
      "cell_type": "code",
      "source": [
        "# Bài 5:\n",
        "# Input: \n",
        "        #  2 Mảng dữ liệu mẫu 1 chiều x cỡ mẫu =n, y cỡ mẫu = m \n",
        "        #  2 option: Hệ số σ1, σ2 (mặc định Null)\n",
        "        #  Loại kiểm định giả thiết: nhỏ, lớn hơn, bằng nhau\n",
        "        #  Mức ý nghĩa α\n",
        "# Output: Bác bỏ hay không bác bỏ H0\n",
        "import math\n",
        "from scipy.stats import t, norm\n",
        "\n",
        "# 1. Trung bình mẫu\n",
        "def MeanE(arr):\n",
        "  S = 0\n",
        "  for i in arr:\n",
        "    S+= i\n",
        "  return S/len(arr)\n",
        "\n",
        "# 2. Phương sai mẫu\n",
        "def VarE(arr):\n",
        "  S = 0\n",
        "  mean = MeanE(arr)\n",
        "  for i in arr:\n",
        "    S = S + (i - mean)**2\n",
        "  return (S / (len(arr) - 1))\n",
        "\n",
        "# 3. Độ lệch chuẩn có hiệu chỉnh của mẫu\n",
        "def StdE(arr):\n",
        "  return math.sqrt(VarE(arr))\n",
        "\n",
        "# 4. kiểm định so sánh 2 giá trị trung bình\n",
        "def Test_Compare2Mean(X, Y, TypeTest, alpha, sigmaX=None, sigmaY=None, SigmaXequalY = None):\n",
        "  #SigmaXequalY: None: khong co thong tin, 1: True, 0: False\n",
        "  #TypeTest: 0: H1: μ1 <= μ2, \n",
        "            # 1: H1: μ1 = μ2,\n",
        "            # 2: H1: μ1 >= μ2,\n",
        "  n = len(X)\n",
        "  m = len(Y)\n",
        "  # so sánh 2 trung bình khi biết phương sai\n",
        "  if sigmaX is not None and sigmaY is not None:\n",
        "    Z0 = (MeanE(X) - MeanE(Y)) / math.sqrt(sigmaX**2/n + sigmaY**2/m)\n",
        "    if TypeTest == 0:\n",
        "      p_value =  norm.cdf(Z0)\n",
        "    elif TypeTest == 1:\n",
        "      p_value = 2*(1 - norm.cdf(abs(Z0)))\n",
        "    else:\n",
        "      p_value = 1 - norm.cdf(Z0)   \n",
        "    print('Z0 = ', Z0)\n",
        "  # so sánh 2 trung bình khi không biết phương sai\n",
        "  if sigmaX is None and sigmaY is None:\n",
        "    sX = StdE(X) \n",
        "    sY = StdE(Y)\n",
        "    # σ1 = σ2\n",
        "    if SigmaXequalY == 1:\n",
        "      Sp =  ((n-1)*(sX**2) + (m-1)*(sY**2)) / (n+m-2)\n",
        "      T0 = (MeanE(X) - MeanE(Y) / (math.sqrt(Sp) * math.sqrt(1/n + 1/m)))\n",
        "      v = n + m - 2\n",
        "    # σ1 != σ2\n",
        "    if SigmaXequalY == 0 or SigmaXequalY is None:\n",
        "      T0 = (MeanE(X) - MeanE(Y) / math.sqrt(sX**2/n + sY**2/m))\n",
        "      v = (sX**2/n + sY**2/m)**2 // ((sX**2/n)**2/(n-1) + (sY**2/m)**2/(m-1))\n",
        "    print('T0 = ', T0)\n",
        "    print('Degree of freedom = ', v)\n",
        "    if TypeTest == 0:\n",
        "      p_value =  t.cdf(T0, v)\n",
        "    elif TypeTest == 1:\n",
        "      p_value = 2*(1 - t.cdf(abs(T0),v))\n",
        "    else:\n",
        "      p_value = 1 - t.cdf(T0, v)\n",
        "  print('p-value = ', p_value)\n",
        "  if p_value < alpha:\n",
        "    return 'reject H0'\n",
        "  else: \n",
        "    return 'not reject H0'"
      ],
      "metadata": {
        "id": "4pno-LnnWtXs"
      },
      "execution_count": 124,
      "outputs": []
    },
    {
      "cell_type": "code",
      "source": [
        "# Test bài 5\n",
        "# p-value = 0.3222\n",
        "arr1 = [16.03, 16.01, 16.04, 15.96, 16.05, 15.98, 16.05, 16.02, 16.02, 15.99]\n",
        "arr2 = [16.02, 16.03, 15.97, 16.04, 15.96, 16.02, 16.01, 16.01, 15.99, 16.00]\n",
        "Test_Compare2Mean(arr1, arr2, TypeTest=1, alpha=0.05, sigmaX=0.02, sigmaY=0.025, SigmaXequalY = None)"
      ],
      "metadata": {
        "colab": {
          "base_uri": "https://localhost:8080/",
          "height": 70
        },
        "id": "D7cXiTydi536",
        "outputId": "0aa23c85-c459-4c35-a9f9-81f4299b9efc"
      },
      "execution_count": 125,
      "outputs": [
        {
          "output_type": "stream",
          "name": "stdout",
          "text": [
            "Z0 =  0.9877295966497439\n",
            "p-value =  0.3232850955134885\n"
          ]
        },
        {
          "output_type": "execute_result",
          "data": {
            "text/plain": [
              "'not reject H0'"
            ],
            "application/vnd.google.colaboratory.intrinsic+json": {
              "type": "string"
            }
          },
          "metadata": {},
          "execution_count": 125
        }
      ]
    },
    {
      "cell_type": "code",
      "source": [
        "# Test bài 5\n",
        "arr1 = [16.03, 16.01, 16.04, 15.96, 16.05, 15.98, 16.05, 16.02, 16.02, 15.99]\n",
        "arr2 = [16.02, 16.03, 15.97, 16.04, 15.96, 16.02, 16.01, 16.01, 15.99, 16.00]\n",
        "\n",
        "Test_Compare2Mean(arr1, arr2, TypeTest=2, alpha=0.05, sigmaX=None, sigmaY=None, SigmaXequalY = 1)"
      ],
      "metadata": {
        "colab": {
          "base_uri": "https://localhost:8080/",
          "height": 87
        },
        "id": "uVPpmGy77Y4i",
        "outputId": "bf6ad53a-64d5-423c-a0a5-87ac00ad678c"
      },
      "execution_count": 119,
      "outputs": [
        {
          "output_type": "stream",
          "name": "stdout",
          "text": [
            "T0 =  -1262.6812068301151\n",
            "Degree of freedom =  18\n",
            "p-value =  1.0\n"
          ]
        },
        {
          "output_type": "execute_result",
          "data": {
            "text/plain": [
              "'not reject H0'"
            ],
            "application/vnd.google.colaboratory.intrinsic+json": {
              "type": "string"
            }
          },
          "metadata": {},
          "execution_count": 119
        }
      ]
    },
    {
      "cell_type": "code",
      "source": [
        "# Test bài 5: \n",
        "# 10-9. (a) P-value = 0.0173\n",
        "a= \"57.9, 66.2, 65.4, 65.4, 65.2, 62.6, 67.6, 63.7, 67.2, 71.0\"\n",
        "b= \"66.4, 71.7, 70.3, 69.3, 64.8, 69.6, 68.6, 69.4, 65.3, 68.8\"\n",
        "arr2 = [float(e) for e in a.split(\", \")]\n",
        "arr1 = [float(e) for e in b.split(\", \")]\n",
        "print(arr1)\n",
        "Test_Compare2Mean(arr1, arr2, TypeTest=1, alpha=0.05, sigmaX=3, sigmaY=3, SigmaXequalY = None)"
      ],
      "metadata": {
        "colab": {
          "base_uri": "https://localhost:8080/",
          "height": 87
        },
        "id": "_tTj-sXuxHxY",
        "outputId": "c251b56b-5596-4d7f-9ac9-a822c5ad204d"
      },
      "execution_count": 117,
      "outputs": [
        {
          "output_type": "stream",
          "name": "stdout",
          "text": [
            "[66.4, 71.7, 70.3, 69.3, 64.8, 69.6, 68.6, 69.4, 65.3, 68.8]\n",
            "Z0 =  2.3851391759997567\n",
            "p-value =  0.017072661093789243\n"
          ]
        },
        {
          "output_type": "execute_result",
          "data": {
            "text/plain": [
              "'reject H0'"
            ],
            "application/vnd.google.colaboratory.intrinsic+json": {
              "type": "string"
            }
          },
          "metadata": {},
          "execution_count": 117
        }
      ]
    },
    {
      "cell_type": "markdown",
      "source": [
        "**Lab 3:**\n",
        "> Bài 6: Hàm tính hệ số và dự báo giá trị hồi quy tuyến tính đơn"
      ],
      "metadata": {
        "id": "qTo1AIJc7uZu"
      }
    },
    {
      "cell_type": "code",
      "source": [
        "# Bai 6:\n",
        "# Input: \n",
        "        # 2 vecto x,y cùng số phần tử\n",
        "        # option: 1: Hồi quy tuyến tính đơn, 2: Hồi quy cầu phương\n",
        "# Output: các hệ số hồi quy\n",
        "from scipy.linalg import solve\n",
        "import numpy as np\n",
        "\n",
        "def Linear_Regression(x, y, option):\n",
        "  # option: 1: Hồi quy tuyến tính đơn, 2: Hồi quy cầu phương\n",
        "  n = len(x)\n",
        "  if len(y) != n:\n",
        "    return -1\n",
        "  if option == 1:\n",
        "    Sxy = 0\n",
        "    Sx = 0\n",
        "    Sy = 0\n",
        "    Sx2 = 0\n",
        "    for i in range(n):\n",
        "      Sxy+= x[i] * y[i]\n",
        "      Sx+= x[i]\n",
        "      Sy+= y[i]\n",
        "      Sx2+= x[i]**2\n",
        "    B1_ = (Sxy - Sx * Sy / n) / ((Sx2) - (Sx)**2 / n)\n",
        "    B0_ = Sy / n - B1_ * Sx / n\n",
        "    return print('Các hệ số hồi quy β0^ =', B0_, ', β1^ =', B1_) \n",
        "  if option ==2:\n",
        "    Sx = 0\n",
        "    Sx2 = 0\n",
        "    Sx3 = 0\n",
        "    Sx4 = 0        \n",
        "    Sy = 0\n",
        "    Sxy = 0\n",
        "    Sx2y = 0\n",
        "    for i in range(n):\n",
        "      Sx+= x[i]\n",
        "      Sx2+= x[i]**2 \n",
        "      Sx3+= x[i]**3 \n",
        "      Sx4+= x[i]**4 \n",
        "      Sy+= y[i]\n",
        "      Sxy+= x[i] * y[i]\n",
        "      Sx2y+= x[i]**2 * y[i]\n",
        "    A = np.array([[n, Sx, Sx2],\n",
        "                  [Sx, Sx2, Sx3],\n",
        "                  [Sx2, Sx3, Sx4]])\n",
        "    b = np.array([Sy, Sxy, Sx2y])  \n",
        "    B0_, B1_, B2_ = solve(A,b)\n",
        "    return print('Các hệ số hồi quy β0^ =', B0_, ', β1^ =', B1_,', β2^ =', B2_) "
      ],
      "metadata": {
        "id": "Bsl6l6Zo7trE"
      },
      "execution_count": 126,
      "outputs": []
    },
    {
      "cell_type": "code",
      "source": [
        "# Test bài 6: \n",
        "#b1^=14.94748, b0^=74.28331\n",
        "x ='0.99 1.02 1.15 1.29 1.46 1.36 0.87 1.23 1.55 1.40 1.19 1.15 0.98 1.01 1.11 1.20 1.26 1.32 1.43 0.95'\n",
        "y ='90.01 89.05 91.43 93.74 96.73 94.45 87.59 91.77 99.42 93.65 93.54 92.52 90.56 89.54 89.85 90.39 93.25 93.41 94.98 87.33'\n",
        "arr1 = np.array([float(e) for e in x.split(\" \")])\n",
        "arr2 = np.array([float(e) for e in y.split(\" \")])\n",
        "print(arr1, arr2)\n",
        "Linear_Regression(arr1, arr2, option=1)"
      ],
      "metadata": {
        "colab": {
          "base_uri": "https://localhost:8080/"
        },
        "id": "ZEBSXmOHVMpo",
        "outputId": "7ea2b264-50b9-48f3-e0e7-f9e06eaaf590"
      },
      "execution_count": 127,
      "outputs": [
        {
          "output_type": "stream",
          "name": "stdout",
          "text": [
            "[0.99 1.02 1.15 1.29 1.46 1.36 0.87 1.23 1.55 1.4  1.19 1.15 0.98 1.01\n",
            " 1.11 1.2  1.26 1.32 1.43 0.95] [90.01 89.05 91.43 93.74 96.73 94.45 87.59 91.77 99.42 93.65 93.54 92.52\n",
            " 90.56 89.54 89.85 90.39 93.25 93.41 94.98 87.33]\n",
            "Các hệ số hồi quy β0^ = 74.28331424039486 , β1^ = 14.947479732111322\n"
          ]
        }
      ]
    },
    {
      "cell_type": "code",
      "source": [
        "# Test bài 6: \n",
        "x ='0.99 1.02 1.15 1.29 1.46 1.36 0.87 1.23 1.55 1.40 1.19 1.15 0.98 1.01 1.11 1.20 1.26 1.32 1.43 0.95'\n",
        "y ='90.01 89.05 91.43 93.74 96.73 94.45 87.59 91.77 99.42 93.65 93.54 92.52 90.56 89.54 89.85 90.39 93.25 93.41 94.98 87.33'\n",
        "X = [float(a) for a in x.split(\" \")]\n",
        "Y = [float(a) for a in y.split(\" \")]\n",
        "Linear_Regression(X, Y, option=2)"
      ],
      "metadata": {
        "colab": {
          "base_uri": "https://localhost:8080/"
        },
        "id": "LlDFy6EFK-UU",
        "outputId": "f929aaf0-adf0-4b34-b802-97af67201c74"
      },
      "execution_count": 129,
      "outputs": [
        {
          "output_type": "stream",
          "name": "stdout",
          "text": [
            "Các hệ số hồi quy β0^ = 88.24059589753023 , β1^ = -8.80278389374228 , β2^ = 9.865775534589918\n"
          ]
        }
      ]
    },
    {
      "cell_type": "markdown",
      "source": [
        "**Lab 4:**\n",
        "\n",
        "\n",
        "> Bài 7: Viết hàm tính Khoảng tin cậy cho hệ số hồi quy = hồi quy đơn biến theo thuật toán đã cho.\n",
        "\n",
        "> Bài 7.1: Khoảng tin cậy cho giá trị dự báo"
      ],
      "metadata": {
        "id": "QYpKUlnzWuTS"
      }
    },
    {
      "cell_type": "code",
      "source": [
        "# Bai 7.1:\n",
        "# input: 2 vecto cùng số phần tử x, y, x0 (mảng 1 chiều kiểu np.array), độ tin cậy (1-α)100% = 99%\n",
        "# output: KTC của beta0, beta1, y0\n",
        "import numpy as np\n",
        "import math\n",
        "from scipy.stats import t\n",
        "\n",
        "# 1. Hàm nhân 2 ma trận\n",
        "def Mul(A,B):\n",
        "  n,p = len(A), len(A[0])\n",
        "  q,m = len(B), len(B[0])\n",
        "  if p!=q:\n",
        "    return False\n",
        "  result = np.zeros((n,m))\n",
        "  for i in range(n):\n",
        "      for j in range(m):\n",
        "          for k in range(p):\n",
        "              result[i][j] += A[i][k] * B[k][j]\n",
        "  return result\n",
        "\n",
        "# 2. Hàm cho ma trận chuyển vị\n",
        "def Trans(P):\n",
        "  # P: mảng 2 chiều np.array, không áp dụng cho list\n",
        "  # hàm này không xử mảng 1 chiều, muốn chuyển vị, phải tự chuyển mảng 1 chiều thành 2 chiều trước đó rồi mới đưa vô input\n",
        "  # if P.ndim == 1 phải thực hiện P = P.reshape(1,-1)\n",
        "  if P.ndim == 2:\n",
        "    n = len(P)\n",
        "    m = len(P[0])\n",
        "    R = np.ones((m,n))\n",
        "    for i in range(n):\n",
        "      for j in range(m):\n",
        "        R[j][i] = P[i][j]\n",
        "    return R\n",
        "  return -1\n",
        "\n",
        "# 3. Trung bình mẫu\n",
        "def MeanE(arr):\n",
        "  S = 0\n",
        "  for i in arr:\n",
        "    S+= i\n",
        "  return S/len(arr)\n",
        "\n",
        "# 4. Hàm tìm khoảng tin cậy cho hệ số hội quy bằng hồi quy đơn biến\n",
        "def CI_Regression_coefficient(x, y, confidence_level=0.99):\n",
        "  alpha = 1 - confidence_level\n",
        "  n = len(x)\n",
        "  if len(y) != n:\n",
        "    return -1\n",
        "  Sxy = 0\n",
        "  Sx = 0\n",
        "  Sy = 0\n",
        "  Sx2 = 0\n",
        "  Sy2 = 0\n",
        "  for i in range(n):\n",
        "    Sxy+= x[i] * y[i]\n",
        "    Sx+= x[i]\n",
        "    Sy+= y[i]\n",
        "    Sx2+= x[i]**2 \n",
        "    Sy2+= y[i]**2\n",
        "  B1_ = (Sxy - Sx * Sy / n) / ((Sx2) - (Sx)**2 / n)\n",
        "  B0_ = Sy / n - B1_ * Sx / n\n",
        "  # SSt = yt * y * (Sy**2) /n\n",
        "  # yt là ma trận chuyển vị của y\n",
        "  y = y.reshape(-1, 1)\n",
        "  SSt = Mul(Trans(y), y) - (Sy**2) / n\n",
        "  SSe = SSt - B1_ * (Sxy - Sx * Sy / n)\n",
        "  sigma_2 = SSe / (n-2)\n",
        "  sigma_ = math.sqrt(sigma_2)\n",
        "  Sxx = Sx2 - (Sx)**2 / n\n",
        "  seB1_ = sigma_ / math.sqrt(Sxx)\n",
        "  seB0_ = sigma_ * math.sqrt(1 / n + MeanE(x)**2 / Sxx)\n",
        "  tE = t.ppf(1 - alpha/2, n-2)\n",
        "  eB0_ = tE * seB0_\n",
        "  eB1_ = tE * seB1_\n",
        "  B0 = [math.inf]*2\n",
        "  B1 = [math.inf]*2\n",
        "  B0[0] = B0_ - eB0_\n",
        "  B0[1] = B0_ + eB0_\n",
        "  B1[0] = B1_ - eB1_\n",
        "  B1[1] = B1_ + eB1_\n",
        "  return print('Beta^0 = ', B0_, '\\nBeta^1 = ', B1_, '\\nKTC', confidence_level*100, '% của Beta^0 và Beta^1 lần lượt là:', B0, B1)"
      ],
      "metadata": {
        "id": "6b_DtXT6YBZB"
      },
      "execution_count": 130,
      "outputs": []
    },
    {
      "cell_type": "code",
      "source": [
        "# Bai 7.2:\n",
        "# input: 2 vecto cùng số phần tử x, y, x0 (mảng 1 chiều kiểu np.array), độ tin cậy (1-α)100% = 99%\n",
        "# output: KTC của beta0, beta1, y0\n",
        "import numpy as np\n",
        "import math\n",
        "from scipy.stats import t\n",
        "\n",
        "# 1. Hàm nhân 2 ma trận\n",
        "def Mul(A,B):\n",
        "  n,p = len(A), len(A[0])\n",
        "  q,m = len(B), len(B[0])\n",
        "  if p!=q:\n",
        "    return False\n",
        "  result = np.zeros((n,m))\n",
        "  for i in range(n):\n",
        "      for j in range(m):\n",
        "          for k in range(p):\n",
        "              result[i][j] += A[i][k] * B[k][j]\n",
        "  return result\n",
        "\n",
        "# 2. Hàm cho ma trận chuyển vị\n",
        "def Trans(P):\n",
        "  # P: mảng 2 chiều np.array, không áp dụng cho list\n",
        "  # hàm này không xử mảng 1 chiều, muốn chuyển vị, phải tự chuyển mảng 1 chiều thành 2 chiều trước đó rồi mới đưa vô input\n",
        "  # if P.ndim == 1 phải thực hiện P = P.reshape(1,-1)\n",
        "  if P.ndim == 2:\n",
        "    n = len(P)\n",
        "    m = len(P[0])\n",
        "    R = np.ones((m,n))\n",
        "    for i in range(n):\n",
        "      for j in range(m):\n",
        "        R[j][i] = P[i][j]\n",
        "    return R\n",
        "  return -1\n",
        "\n",
        "# 3. Trung bình mẫu\n",
        "def MeanE(arr):\n",
        "  S = 0\n",
        "  for i in arr:\n",
        "    S+= i\n",
        "  return S/len(arr)\n",
        "\n",
        "# 4. Hàm tìm khoảng tin cậy cho giá trị dự báo bằng hồi quy đơn biến\n",
        "def CI_Linear_Regression_predictedY(x, y, x0, confidence_level=0.99):\n",
        "  alpha = 1- confidence_level\n",
        "  n = len(x)\n",
        "  if len(y) != n:\n",
        "    return -1\n",
        "  Sxy = 0\n",
        "  Sx = 0\n",
        "  Sy = 0\n",
        "  Sx2 = 0\n",
        "  Sy2 = 0\n",
        "  for i in range(n):\n",
        "    Sxy+= x[i] * y[i]\n",
        "    Sx+= x[i]\n",
        "    Sy+= y[i]\n",
        "    Sx2+= x[i]**2 \n",
        "    Sy2+= y[i]**2\n",
        "  B1_ = (Sxy - Sx * Sy / n) / ((Sx2) - (Sx)**2 / n)\n",
        "  B0_ = Sy / n - B1_ * Sx / n\n",
        "  # SSt = yt * y * (Sy**2) /n\n",
        "  # yt là ma trận chuyển vị của y\n",
        "  y = y.reshape(-1, 1)\n",
        "  SSt = Mul(Trans(y), y) - (Sy**2) / n\n",
        "  SSe = SSt - B1_ * (Sxy - Sx * Sy / n)\n",
        "  sigma_2 = SSe / (n-2)\n",
        "  sigma_ = math.sqrt(sigma_2)\n",
        "  Sxx = Sx2 - (Sx)**2 / n\n",
        "  tE = t.ppf(1 - alpha/2, n-2)\n",
        "  ey = tE * sigma_ * math.sqrt(1 + 1 / n + (x0 - MeanE(x))**2 / Sxx)\n",
        "  y0_ = B0_ + B1_ * x0\n",
        "  y0 = [math.inf]*2\n",
        "  y0[0] = y0_ - ey\n",
        "  y0[1] = y0_ + ey\n",
        "  return print('Tương ứng với x0=',x0,'dự đoán y0=',y0_,'KTC', confidence_level*100, '% của y0 lần lượt là:', y0)\n"
      ],
      "metadata": {
        "id": "lGzNh2iOXuLA"
      },
      "execution_count": 131,
      "outputs": []
    },
    {
      "cell_type": "code",
      "source": [
        "# Test bài 7:\n",
        "# bai 11.57 (a) b1^ (− 43.1964, − 30.7272)\n",
        "# (b) b0^ (2530.09, 2720.68)\n",
        "# (d) y0^ (1668.9013, 2103.4067)\n",
        "a = '15.50 23.75 8.00 17.00 5.00 19.00 24.00 2.50 7.50 11.00 13.00 3.75 25.00 9.75 22.00 18.00 6.00 12.50 2.00 21.50'\n",
        "b = '2158.70 1678.15 2316.00 2061.30 2207.50 1708.30 1784.70 2575.00 2357.90 2277.70 2165.20 2399.55 1779.80 2336.75 1765.30 2053.50 2414.40 2200.50 2654.20 1753.70'\n",
        "arr1 = np.array([float(e) for e in a.split(\" \")])\n",
        "arr2 = np.array([float(e) for e in b.split(\" \")])\n",
        "CI_Regression_coefficient(arr1, arr2, confidence_level=0.95)\n",
        "CI_Linear_Regression_predictedY(arr1, arr2, confidence_level=0.95, x0=20)\n"
      ],
      "metadata": {
        "colab": {
          "base_uri": "https://localhost:8080/"
        },
        "id": "TwaByPbTgSsO",
        "outputId": "084462bd-fd43-4b6b-d382-170f5a2fcd49"
      },
      "execution_count": 132,
      "outputs": [
        {
          "output_type": "stream",
          "name": "stdout",
          "text": [
            "Beta^0 =  2625.3854624871387 \n",
            "Beta^1 =  -36.961796625090045 \n",
            "KTC 95.0 % của Beta^0 và Beta^1 lần lượt là: [2530.1152922163524, 2720.655632757925] [-43.19484057014047, -30.72875268003962]\n",
            "Tương ứng với x0= 20 dự đoán y0= 1886.1495299853377 KTC 95.0 % của y0 lần lượt là: [1668.904810563035, 2103.3942494076405]\n"
          ]
        }
      ]
    },
    {
      "cell_type": "code",
      "source": [
        "# Test Bài 7\n",
        "# VD11.1: x0 =1, 86.83≤y0≤ 91.63\n",
        "# b1^=14.94748, b0^=74.28331\n",
        "# 12.181 <= b1^ <= 17.713\n",
        "x ='0.99 1.02 1.15 1.29 1.46 1.36 0.87 1.23 1.55 1.40 1.19 1.15 0.98 1.01 1.11 1.20 1.26 1.32 1.43 0.95'\n",
        "y ='90.01 89.05 91.43 93.74 96.73 94.45 87.59 91.77 99.42 93.65 93.54 92.52 90.56 89.54 89.85 90.39 93.25 93.41 94.98 87.33'\n",
        "arr1 = np.array([float(e) for e in x.split(\" \")])\n",
        "arr2 = np.array([float(e) for e in y.split(\" \")])\n",
        "CI_Regression_coefficient(arr1, arr2, confidence_level=0.95)\n",
        "CI_Linear_Regression_predictedY(arr1, arr2, confidence_level=0.95, x0=1)\n"
      ],
      "metadata": {
        "colab": {
          "base_uri": "https://localhost:8080/"
        },
        "id": "7vLlswCMUcFZ",
        "outputId": "b34123a9-f999-4c09-fa52-077bd1eb7295"
      },
      "execution_count": 135,
      "outputs": [
        {
          "output_type": "stream",
          "name": "stdout",
          "text": [
            "Beta^0 =  74.28331424039486 \n",
            "Beta^1 =  14.947479732111322 \n",
            "KTC 95.0 % của Beta^0 và Beta^1 lần lượt là: [70.93555090467301, 77.63107757611671] [12.18107326147083, 17.713886202751816]\n",
            "Tương ứng với x0= 1 dự đoán y0= 89.23079397250618 KTC 95.0 % của y0 lần lượt là: [86.82968701809905, 91.6319009269133]\n"
          ]
        }
      ]
    },
    {
      "cell_type": "markdown",
      "source": [
        "**Lab 4:**\n",
        "> Bài 8: Viết hàm ANOVA (phần tích phương sai) cho mô hình hồi quy tuyến tính đơn biến"
      ],
      "metadata": {
        "id": "3GVays1Syd08"
      }
    },
    {
      "cell_type": "code",
      "source": [
        "# Bài 8: Viết hàm ANOVA phân tích phương sai cho mô hình hồi quy tuyến tính đơn biến\n",
        "import numpy as np\n",
        "import math\n",
        "# 1. Hàm nhân 2 ma trận\n",
        "def Mul(A,B):\n",
        "  n,p = len(A), len(A[0])\n",
        "  q,m = len(B), len(B[0])\n",
        "  if p!=q:\n",
        "    return False\n",
        "  result = np.zeros((n,m))\n",
        "  for i in range(n):\n",
        "      for j in range(m):\n",
        "          for k in range(p):\n",
        "              result[i][j] += A[i][k] * B[k][j]\n",
        "  return result\n",
        "\n",
        "# 2. Hàm cho ma trận chuyển vị\n",
        "def Trans(P):\n",
        "  # P: mảng 2 chiều np.array, không áp dụng cho list\n",
        "  # hàm này không xử mảng 1 chiều, muốn chuyển vị, phải tự chuyển mảng 1 chiều thành 2 chiều trước đó rồi mới đưa vô input\n",
        "  # if P.ndim == 1 phải thực hiện P = P.reshape(1,-1)\n",
        "  if P.ndim == 2:\n",
        "    n = len(P)\n",
        "    m = len(P[0])\n",
        "    R = np.ones((m,n))\n",
        "    for i in range(n):\n",
        "      for j in range(m):\n",
        "        R[j][i] = P[i][j]\n",
        "    return R\n",
        "  return -1\n",
        "\n",
        "# 3. Trung bình mẫu\n",
        "def MeanE(arr):\n",
        "  S = 0\n",
        "  for i in arr:\n",
        "    S+= i\n",
        "  return S/len(arr)\n",
        "\n",
        "# 4. Hàm tìm khoảng tin cậy cho hệ số hội quy bằng hồi quy đơn biến\n",
        "def ANOVA(x, y):\n",
        "  n = len(x)\n",
        "  if len(y) != n:\n",
        "    return -1\n",
        "  Sxy = 0\n",
        "  Sx = 0\n",
        "  Sy = 0\n",
        "  Sx2 = 0\n",
        "  Sy2 = 0\n",
        "  for i in range(n):\n",
        "    Sxy+= x[i] * y[i]\n",
        "    Sx+= x[i]\n",
        "    Sy+= y[i]\n",
        "    Sx2+= x[i]**2 \n",
        "    Sy2+= y[i]**2\n",
        "  B1_ = (Sxy - Sx * Sy / n) / ((Sx2) - (Sx)**2 / n)\n",
        "  B0_ = Sy / n - B1_ * Sx / n\n",
        "  # SSt = yt * y * (Sy**2) /n\n",
        "  # yt là ma trận chuyển vị của y\n",
        "  y = y.reshape(-1, 1)\n",
        "  SSt = Mul(Trans(y), y) - (Sy**2) / n\n",
        "  SSe = SSt - B1_ * (Sxy - Sx * Sy / n)\n",
        "  SSr = SSt - SSe\n",
        "  # Trung bình bình phương sai số\n",
        "  MSr = SSr\n",
        "  MSe = SSe / (n - 2)\n",
        "  # In barng ANOVA\n",
        "  Table = {\"Hoi_quy_tuyen_tinh\":[round(SSr[0][0],4), str(1), round(SSr[0][0],4), round((MSr/MSe)[0][0],4)],\n",
        "           \"Sai_so\": [round(SSe[0][0],4), str(n -2), round(MSe[0][0],4),''],\n",
        "           \"Tong\": [round(SSt[0][0],4), str(n -1),'','']}\n",
        "  print('Bang ANOVA\\n')\n",
        "  print (\"{:<20} {:<18} {:<10} {:<18} {:<18}\".format('Ten_dai_luong','Tong_binh_phuong','Bac_tu_do','TB_binh_phuong', 'F0'))\n",
        "  for k, v in Table.items():\n",
        "    Tong_binh_phuong, Bac_tu_do, TB_binh_phuong, F0 = v\n",
        "    print (\"{:<20} {:<18} {:<10} {:<18} {:<18}\".format(k, Tong_binh_phuong, Bac_tu_do, TB_binh_phuong, F0))"
      ],
      "metadata": {
        "id": "lpophmlQrTS8"
      },
      "execution_count": 1,
      "outputs": []
    },
    {
      "cell_type": "code",
      "source": [
        "# Test bài 8:\n",
        "import numpy as np\n",
        "# X = [[7,8,15,11,9,10],\n",
        "#               [19,25,22,23,18,20]]\n",
        "x = np.array([7,8,15,11,9,10])\n",
        "y = np.array([19,25,22,23,18,20])\n",
        "ANOVA(x, y)"
      ],
      "metadata": {
        "colab": {
          "base_uri": "https://localhost:8080/"
        },
        "id": "kRLjpOwNXpw1",
        "outputId": "03c7a892-1032-4c09-8123-1cb9af1dda7e"
      },
      "execution_count": 136,
      "outputs": [
        {
          "output_type": "stream",
          "name": "stdout",
          "text": [
            "Bang ANOVA\n",
            "\n",
            "Ten_dai_luong        Tong_binh_phuong   Bac_tu_do  TB_binh_phuong     F0                \n",
            "Hoi_quy_tuyen_tinh   1.6                1          1.6                0.1926            \n",
            "Sai_so               33.2333            4          8.3083                               \n",
            "Tong                 34.8333            5                                               \n"
          ]
        }
      ]
    },
    {
      "cell_type": "code",
      "source": [
        "# Test bài 8:\n",
        "x ='0.99 1.02 1.15 1.29 1.46 1.36 0.87 1.23 1.55 1.40 1.19 1.15 0.98 1.01 1.11 1.20 1.26 1.32 1.43 0.95'\n",
        "y ='90.01 89.05 91.43 93.74 96.73 94.45 87.59 91.77 99.42 93.65 93.54 92.52 90.56 89.54 89.85 90.39 93.25 93.41 94.98 87.33'\n",
        "arr1 = np.array([float(e) for e in x.split(\" \")])\n",
        "arr2 = np.array([float(e) for e in y.split(\" \")])\n",
        "ANOVA(arr1, arr2)"
      ],
      "metadata": {
        "colab": {
          "base_uri": "https://localhost:8080/"
        },
        "id": "Bb0loRqehxj3",
        "outputId": "11138884-de15-4c55-a135-d22953e062f0"
      },
      "execution_count": 137,
      "outputs": [
        {
          "output_type": "stream",
          "name": "stdout",
          "text": [
            "Bang ANOVA\n",
            "\n",
            "Ten_dai_luong        Tong_binh_phuong   Bac_tu_do  TB_binh_phuong     F0                \n",
            "Hoi_quy_tuyen_tinh   152.1271           1          152.1271           128.8617          \n",
            "Sai_so               21.2498            18         1.1805                               \n",
            "Tong                 173.3769           19                                              \n"
          ]
        }
      ]
    },
    {
      "cell_type": "markdown",
      "source": [
        "**Lab 5:**\n",
        "> Bài 9: Viết hàm tính hệ số hồi quy đa biến sau y = X.B\n"
      ],
      "metadata": {
        "id": "9hSaM8W1m46h"
      }
    },
    {
      "cell_type": "code",
      "source": [
        "# Bài 9: viết hàm tính hệ số hồi quy đa biến y = Z. beta->\n",
        "# input: vecto X, matran X\n",
        "# output: vecto Beta dư đoán\n",
        "import numpy as np\n",
        "\n",
        "# 1. Hàm nhân 2 ma trận\n",
        "def Mul(A,B):\n",
        "  n,p = len(A), len(A[0])\n",
        "  q,m = len(B), len(B[0])\n",
        "  if p!=q:\n",
        "    return False\n",
        "  result = np.zeros((n,m))\n",
        "  for i in range(n):\n",
        "      for j in range(m):\n",
        "          for k in range(p):\n",
        "              result[i][j] += A[i][k] * B[k][j]\n",
        "  return result\n",
        "\n",
        "# 2. Hàm cho ma trận chuyển vị\n",
        "def Trans(P):\n",
        "  # P: mảng 2 chiều np.array, không áp dụng cho list\n",
        "  # hàm này không xử mảng 1 chiều, muốn chuyển vị, phải tự chuyển mảng 1 chiều thành 2 chiều trước đó rồi mới đưa vô input\n",
        "  # if P.ndim == 1 phải thực hiện P = P.reshape(1,-1)\n",
        "  if P.ndim == 2:\n",
        "    n = len(P)\n",
        "    m = len(P[0])\n",
        "    R = np.ones((m,n))\n",
        "    for i in range(n):\n",
        "      for j in range(m):\n",
        "        R[j][i] = P[i][j]\n",
        "    return R\n",
        "  return -1\n",
        "\n",
        "# 3. ham tinh he so hoi quy da bien\n",
        "def RegMul(y,x):\n",
        "  # y: mang 1 chieu, x: ma tran 2 chiều\n",
        "  X = np.append(np.array([[1]]),x[0]).reshape(1,-1)\n",
        "  for i in range(1,len(x)):\n",
        "    X_ = np.append(np.array([[1]]),x[i]).reshape(1,-1)\n",
        "    X = np.append(X, X_, axis=0)\n",
        "  y = y.reshape(-1,1)\n",
        "  a = Mul(Trans(X),X)\n",
        "  beta_mu = Mul(np.linalg.inv(a),Mul(Trans(X),y))\n",
        "  return beta_mu"
      ],
      "metadata": {
        "id": "wsj-jKxuk767"
      },
      "execution_count": 138,
      "outputs": []
    },
    {
      "cell_type": "code",
      "source": [
        "# Test bài 9:\n",
        "# [2.26379143], [2.74426964], [0.01252781]\n",
        "y = '9.95 24.45 31.75 35.00 25.02 16.86 14.38 9.60 24.35 27.50 17.08 37.00 41.95 11.66 21.65 17.89 69.00 10.30 34.93 46.59 44.88 54.12 56.63 22.13 21.15'\n",
        "x = np.array([[2,50],\n",
        "     [8,110],\n",
        "     [11,120],\n",
        "     [10,550],\n",
        "     [8,295],\n",
        "     [4,200],\n",
        "     [2,375],\n",
        "     [2,52],\n",
        "     [9,100],\n",
        "     [8,300],\n",
        "     [4,412],\n",
        "     [11,400],\n",
        "     [12,500],\n",
        "     [2,360],\n",
        "     [4,205],\n",
        "     [4,400],\n",
        "     [20,600],\n",
        "     [1,585],\n",
        "     [10,540],\n",
        "     [15,250],\n",
        "     [15,290],\n",
        "     [16,510],\n",
        "     [17,590],\n",
        "     [6,100],\n",
        "     [5,400]])\n",
        "y=np.array([float(e) for e in y.split(\" \")])\n",
        "RegMul(y,x)"
      ],
      "metadata": {
        "colab": {
          "base_uri": "https://localhost:8080/"
        },
        "id": "SGSRNDyLgdWa",
        "outputId": "7f817dcc-56c8-46e5-a31f-39a5bee11f8f"
      },
      "execution_count": 139,
      "outputs": [
        {
          "output_type": "execute_result",
          "data": {
            "text/plain": [
              "array([[2.26379143],\n",
              "       [2.74426964],\n",
              "       [0.01252781]])"
            ]
          },
          "metadata": {},
          "execution_count": 139
        }
      ]
    },
    {
      "cell_type": "code",
      "source": [
        "# Test bài 9:\n",
        "X = np.array([[2.05, 0.016],\n",
        "              [2.15, 0.02],\n",
        "              [2.25, 0.022],\n",
        "              [2.3, 0.023],\n",
        "              [2.4, 0.026],\n",
        "              [2.47, 0.028],\n",
        "              [2.54, 0.031],\n",
        "              [2.64, 0.034],\n",
        "              [2.85, 0.039],\n",
        "              [2.94, 0.042],\n",
        "              [3.05, 0.045]])\n",
        "Y = np.array([[0.749],\n",
        "              [0.798],\n",
        "              [0.849],\n",
        "              [0.877],\n",
        "              [0.929],\n",
        "              [0.963],\n",
        "              [0.997],\n",
        "              [1.046],\n",
        "              [1.133],\n",
        "              [1.17],\n",
        "              [1.215]])\n",
        "RegMul(Y,X)"
      ],
      "metadata": {
        "colab": {
          "base_uri": "https://localhost:8080/"
        },
        "id": "BdQMiI7IIXIz",
        "outputId": "0a398d5f-8a8c-4033-905f-364aa4e2d0b6"
      },
      "execution_count": 140,
      "outputs": [
        {
          "output_type": "execute_result",
          "data": {
            "text/plain": [
              "array([[-0.11049859],\n",
              "       [ 0.4071739 ],\n",
              "       [ 2.10796936]])"
            ]
          },
          "metadata": {},
          "execution_count": 140
        }
      ]
    },
    {
      "cell_type": "markdown",
      "source": [
        "**Lab 5:**\n",
        "> Bài 10: Hàm dự đoán"
      ],
      "metadata": {
        "id": "W85XAgNKpT4s"
      }
    },
    {
      "cell_type": "code",
      "source": [
        "# Bài 10: Viết hàm dự đoán\n",
        "# Input: \n",
        "        # vecto dữ liệu y, X\n",
        "        # vecto tọa độ x0=(1,x1,...xk)\n",
        "        # level-confident = 95%\n",
        "# Output: Giá trị y0, KTC của y0\n",
        "from scipy.stats import t\n",
        "import math\n",
        "import numpy as np\n",
        "\n",
        "# Nhân ma trận\n",
        "def Mul(A,B):\n",
        "  n,p = len(A), len(A[0])\n",
        "  q,m = len(B), len(B[0])\n",
        "  if p!=q:\n",
        "    return False\n",
        "  result = np.zeros((n,m))\n",
        "  for i in range(n):\n",
        "      # iterating by column by B\n",
        "      for j in range(m):\n",
        "          # iterating by rows of B\n",
        "          for k in range(p):\n",
        "              result[i][j] += A[i][k] * B[k][j]\n",
        "  return result\n",
        "# 2. ham ma tran chuyen vi\n",
        "def Trans(P):\n",
        "  #P: array, khong ap dụng cho list\n",
        "  #hàm này không xử mảng 1 chiều, muốn chuyển vị, phải tự chuyển mảng 1 chiều thành 2 chiều trước đó rồi mới đưa vô input\n",
        "  # if P.ndim == 1:\n",
        "  #   P = P.reshape(1,-1)\n",
        "  if P.ndim == 2:\n",
        "    n = len(P)\n",
        "    m = len(P[0])\n",
        "    R = np.ones((m,n))\n",
        "    for i in range(n):\n",
        "      for j in range(m):\n",
        "        R[j][i] = P[i][j]\n",
        "    return R\n",
        "  return -1\n",
        "\n",
        "# 3. Hàm dự đoán\n",
        "def PredictRegMul(y, X, x0, confidence_level=0.95):\n",
        "  # y: mang 1 chieu, x: ma tran 2 chiều\n",
        "  a = 1 - confidence_level\n",
        "  n = len(X)\n",
        "  k = len(X[0])\n",
        "  B_mu = RegMul(y,X)\n",
        "  # # thêm 1 cột giá trị 1, làm cột đầu tiên của ma trận\n",
        "  X = np.append(np.array([[1]]),x[0]).reshape(1,-1)\n",
        "  for i in range(1,len(x)):\n",
        "    X_ = np.append(np.array([[1]]),x[i]).reshape(1,-1)\n",
        "    X = np.append(X, X_, axis=0)\n",
        "  # đổi Y về dạng vecto\n",
        "  y = y.reshape(-1,1)\n",
        "  # đổi x0 về dạng vecto\n",
        "  x0 = x0.reshape(-1,1)\n",
        "  y0_mu = Mul(Trans(x0), B_mu)\n",
        "  y_mu = Mul(X,B_mu)\n",
        "  e = y - y_mu\n",
        "  sigma_mu2 = Mul(Trans(e),e)[0][0] / (n-k-1)\n",
        "  ta = t.ppf(1-a/2,(n-k-1))\n",
        "  tem = np.linalg.inv(Mul(Trans(X), X))\n",
        "  epsilon = ta * math.sqrt(sigma_mu2 * (1 + Mul(Mul(Trans(x0), tem), x0)))\n",
        "  y0 = [0]*2\n",
        "  y0[0] = y0_mu[0][0] - epsilon\n",
        "  y0[1] = y0_mu[0][0] + epsilon\n",
        "  return print('Tương ứng với x0 =',Trans(x0),'\\ndự đoán y0 =',y0_mu,'\\nKTC', confidence_level*100, '% của y0 là:', y0)"
      ],
      "metadata": {
        "id": "dTyGqdl0pTN3"
      },
      "execution_count": 69,
      "outputs": []
    },
    {
      "cell_type": "code",
      "source": [
        "# Test bài 10:\n",
        "# 22.81 ≤ y0 ≤  32.51\n",
        "y = '9.95 24.45 31.75 35.00 25.02 16.86 14.38 9.60 24.35 27.50 17.08 37.00 41.95 11.66 21.65 17.89 69.00 10.30 34.93 46.59 44.88 54.12 56.63 22.13 21.15'\n",
        "x = np.array([[2,50],\n",
        "     [8,110],\n",
        "     [11,120],\n",
        "     [10,550],\n",
        "     [8,295],\n",
        "     [4,200],\n",
        "     [2,375],\n",
        "     [2,52],\n",
        "     [9,100],\n",
        "     [8,300],\n",
        "     [4,412],\n",
        "     [11,400],\n",
        "     [12,500],\n",
        "     [2,360],\n",
        "     [4,205],\n",
        "     [4,400],\n",
        "     [20,600],\n",
        "     [1,585],\n",
        "     [10,540],\n",
        "     [15,250],\n",
        "     [15,290],\n",
        "     [16,510],\n",
        "     [17,590],\n",
        "     [6,100],\n",
        "     [5,400]])\n",
        "y=np.array([float(e) for e in y.split(\" \")])\n",
        "x0 = np.array([1,8,275])\n",
        "PredictRegMul(y, x, x0, confidence_level=0.95)\n"
      ],
      "metadata": {
        "id": "iesEBedeptgS",
        "colab": {
          "base_uri": "https://localhost:8080/"
        },
        "outputId": "c490d760-d5f6-44c7-a5d8-c6ea29ef60ab"
      },
      "execution_count": 141,
      "outputs": [
        {
          "output_type": "stream",
          "name": "stdout",
          "text": [
            "Tương ứng với x0 = [[  1.   8. 275.]] \n",
            "dự đoán y0 = [[27.66309671]] \n",
            "KTC 95.0 % của y0 là: [22.813780208198384, 32.5124132145521]\n"
          ]
        }
      ]
    }
  ]
}